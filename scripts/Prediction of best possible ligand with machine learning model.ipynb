{
 "cells": [
  {
   "cell_type": "code",
   "execution_count": 1,
   "metadata": {
    "colab": {
     "base_uri": "https://localhost:8080/"
    },
    "executionInfo": {
     "elapsed": 65388,
     "status": "ok",
     "timestamp": 1710100052241,
     "user": {
      "displayName": "Palesa Tjale",
      "userId": "03417757512324219792"
     },
     "user_tz": -120
    },
    "id": "KuLjkh2dbFTl",
    "outputId": "8692a206-bc81-4c34-ca63-afe815f4e9b5"
   },
   "outputs": [
    {
     "name": "stdout",
     "output_type": "stream",
     "text": [
      "Mounted at /content/drive\n"
     ]
    }
   ],
   "source": [
    "# MOUNTING THE DRIVE TO THE COLLAB NOTEBOOK\n",
    "from google.colab import drive\n",
    "drive.mount(\"/content/drive\")"
   ]
  },
  {
   "cell_type": "code",
   "execution_count": 2,
   "metadata": {
    "executionInfo": {
     "elapsed": 1108,
     "status": "ok",
     "timestamp": 1710100053339,
     "user": {
      "displayName": "Palesa Tjale",
      "userId": "03417757512324219792"
     },
     "user_tz": -120
    },
    "id": "dxAH58yybfe2"
   },
   "outputs": [],
   "source": [
    "import pandas as pd\n",
    "import numpy as np\n",
    "pubchem = pd.read_csv(\"/content/drive/MyDrive/clean_pubchem_data.csv\")"
   ]
  },
  {
   "cell_type": "code",
   "execution_count": 3,
   "metadata": {
    "executionInfo": {
     "elapsed": 716,
     "status": "ok",
     "timestamp": 1710100054045,
     "user": {
      "displayName": "Palesa Tjale",
      "userId": "03417757512324219792"
     },
     "user_tz": -120
    },
    "id": "OByoDlHP8EEk"
   },
   "outputs": [],
   "source": [
    "combined_data = pd.read_csv(\"/content/drive/MyDrive/combined_data_AR_Bioassay.csv\")"
   ]
  },
  {
   "cell_type": "code",
   "execution_count": 4,
   "metadata": {
    "colab": {
     "base_uri": "https://localhost:8080/",
     "height": 256
    },
    "executionInfo": {
     "elapsed": 30,
     "status": "ok",
     "timestamp": 1710100054045,
     "user": {
      "displayName": "Palesa Tjale",
      "userId": "03417757512324219792"
     },
     "user_tz": -120
    },
    "id": "5xURB_ia9gTE",
    "outputId": "43db90ef-6de8-40f3-9cca-67e143691141"
   },
   "outputs": [
    {
     "data": {
      "application/vnd.google.colaboratory.intrinsic+json": {
       "type": "dataframe",
       "variable_name": "combined_data"
      },
      "text/html": [
       "\n",
       "  <div id=\"df-a0507662-89e7-4585-966d-4c2b48df7768\" class=\"colab-df-container\">\n",
       "    <div>\n",
       "<style scoped>\n",
       "    .dataframe tbody tr th:only-of-type {\n",
       "        vertical-align: middle;\n",
       "    }\n",
       "\n",
       "    .dataframe tbody tr th {\n",
       "        vertical-align: top;\n",
       "    }\n",
       "\n",
       "    .dataframe thead th {\n",
       "        text-align: right;\n",
       "    }\n",
       "</style>\n",
       "<table border=\"1\" class=\"dataframe\">\n",
       "  <thead>\n",
       "    <tr style=\"text-align: right;\">\n",
       "      <th></th>\n",
       "      <th>PUBCHEM_RESULT_TAG</th>\n",
       "      <th>PUBCHEM_SID</th>\n",
       "      <th>PUBCHEM_CID</th>\n",
       "      <th>PUBCHEM_EXT_DATASOURCE_SMILES</th>\n",
       "      <th>PUBCHEM_ACTIVITY_OUTCOME</th>\n",
       "      <th>PUBCHEM_ACTIVITY_SCORE</th>\n",
       "      <th>PUBCHEM_ACTIVITY_URL</th>\n",
       "      <th>PUBCHEM_ASSAYDATA_COMMENT</th>\n",
       "      <th>Standard.Type</th>\n",
       "      <th>Standard.Relation</th>\n",
       "      <th>...</th>\n",
       "      <th>PubChem.Standard.Value</th>\n",
       "      <th>Activity.Comment</th>\n",
       "      <th>source</th>\n",
       "      <th>Data.Validity.Comment</th>\n",
       "      <th>IC50</th>\n",
       "      <th>Target.Accession.s.</th>\n",
       "      <th>Ligand</th>\n",
       "      <th>Target</th>\n",
       "      <th>Ki</th>\n",
       "      <th>Kd</th>\n",
       "    </tr>\n",
       "  </thead>\n",
       "  <tbody>\n",
       "    <tr>\n",
       "      <th>0</th>\n",
       "      <td>1</td>\n",
       "      <td>103243193</td>\n",
       "      <td>10539813.0</td>\n",
       "      <td>C1=CC(=CC=C1CC2=CC(=O)C3=C(O2)C=CC(=C3)O)O</td>\n",
       "      <td>Unspecified</td>\n",
       "      <td>NaN</td>\n",
       "      <td>NaN</td>\n",
       "      <td>NaN</td>\n",
       "      <td>Activity</td>\n",
       "      <td>=</td>\n",
       "      <td>...</td>\n",
       "      <td>NaN</td>\n",
       "      <td>NaN</td>\n",
       "      <td>NaN</td>\n",
       "      <td>NaN</td>\n",
       "      <td>NaN</td>\n",
       "      <td>NaN</td>\n",
       "      <td>NaN</td>\n",
       "      <td>NaN</td>\n",
       "      <td>NaN</td>\n",
       "      <td>NaN</td>\n",
       "    </tr>\n",
       "    <tr>\n",
       "      <th>1</th>\n",
       "      <td>2</td>\n",
       "      <td>103243498</td>\n",
       "      <td>10084377.0</td>\n",
       "      <td>C1=CC(=CC=C1CC2=CC(=O)C3=C(O2)C=C(C=C3)O)O</td>\n",
       "      <td>Unspecified</td>\n",
       "      <td>NaN</td>\n",
       "      <td>NaN</td>\n",
       "      <td>NaN</td>\n",
       "      <td>Activity</td>\n",
       "      <td>=</td>\n",
       "      <td>...</td>\n",
       "      <td>NaN</td>\n",
       "      <td>NaN</td>\n",
       "      <td>NaN</td>\n",
       "      <td>NaN</td>\n",
       "      <td>NaN</td>\n",
       "      <td>NaN</td>\n",
       "      <td>NaN</td>\n",
       "      <td>NaN</td>\n",
       "      <td>NaN</td>\n",
       "      <td>NaN</td>\n",
       "    </tr>\n",
       "    <tr>\n",
       "      <th>2</th>\n",
       "      <td>1</td>\n",
       "      <td>103243498</td>\n",
       "      <td>10084377.0</td>\n",
       "      <td>C1=CC(=CC=C1CC2=CC(=O)C3=C(O2)C=C(C=C3)O)O</td>\n",
       "      <td>Unspecified</td>\n",
       "      <td>NaN</td>\n",
       "      <td>NaN</td>\n",
       "      <td>NaN</td>\n",
       "      <td>Activity</td>\n",
       "      <td>=</td>\n",
       "      <td>...</td>\n",
       "      <td>NaN</td>\n",
       "      <td>NaN</td>\n",
       "      <td>NaN</td>\n",
       "      <td>NaN</td>\n",
       "      <td>NaN</td>\n",
       "      <td>NaN</td>\n",
       "      <td>NaN</td>\n",
       "      <td>NaN</td>\n",
       "      <td>NaN</td>\n",
       "      <td>NaN</td>\n",
       "    </tr>\n",
       "    <tr>\n",
       "      <th>3</th>\n",
       "      <td>1</td>\n",
       "      <td>103243498</td>\n",
       "      <td>10084377.0</td>\n",
       "      <td>C1=CC(=CC=C1CC2=CC(=O)C3=C(O2)C=C(C=C3)O)O</td>\n",
       "      <td>Unspecified</td>\n",
       "      <td>NaN</td>\n",
       "      <td>NaN</td>\n",
       "      <td>NaN</td>\n",
       "      <td>Activity</td>\n",
       "      <td>=</td>\n",
       "      <td>...</td>\n",
       "      <td>NaN</td>\n",
       "      <td>NaN</td>\n",
       "      <td>NaN</td>\n",
       "      <td>NaN</td>\n",
       "      <td>NaN</td>\n",
       "      <td>NaN</td>\n",
       "      <td>NaN</td>\n",
       "      <td>NaN</td>\n",
       "      <td>NaN</td>\n",
       "      <td>NaN</td>\n",
       "    </tr>\n",
       "    <tr>\n",
       "      <th>4</th>\n",
       "      <td>1</td>\n",
       "      <td>103243193</td>\n",
       "      <td>10539813.0</td>\n",
       "      <td>C1=CC(=CC=C1CC2=CC(=O)C3=C(O2)C=CC(=C3)O)O</td>\n",
       "      <td>Unspecified</td>\n",
       "      <td>NaN</td>\n",
       "      <td>NaN</td>\n",
       "      <td>NaN</td>\n",
       "      <td>Activity</td>\n",
       "      <td>=</td>\n",
       "      <td>...</td>\n",
       "      <td>NaN</td>\n",
       "      <td>NaN</td>\n",
       "      <td>NaN</td>\n",
       "      <td>NaN</td>\n",
       "      <td>NaN</td>\n",
       "      <td>NaN</td>\n",
       "      <td>NaN</td>\n",
       "      <td>NaN</td>\n",
       "      <td>NaN</td>\n",
       "      <td>NaN</td>\n",
       "    </tr>\n",
       "  </tbody>\n",
       "</table>\n",
       "<p>5 rows × 22 columns</p>\n",
       "</div>\n",
       "    <div class=\"colab-df-buttons\">\n",
       "\n",
       "  <div class=\"colab-df-container\">\n",
       "    <button class=\"colab-df-convert\" onclick=\"convertToInteractive('df-a0507662-89e7-4585-966d-4c2b48df7768')\"\n",
       "            title=\"Convert this dataframe to an interactive table.\"\n",
       "            style=\"display:none;\">\n",
       "\n",
       "  <svg xmlns=\"http://www.w3.org/2000/svg\" height=\"24px\" viewBox=\"0 -960 960 960\">\n",
       "    <path d=\"M120-120v-720h720v720H120Zm60-500h600v-160H180v160Zm220 220h160v-160H400v160Zm0 220h160v-160H400v160ZM180-400h160v-160H180v160Zm440 0h160v-160H620v160ZM180-180h160v-160H180v160Zm440 0h160v-160H620v160Z\"/>\n",
       "  </svg>\n",
       "    </button>\n",
       "\n",
       "  <style>\n",
       "    .colab-df-container {\n",
       "      display:flex;\n",
       "      gap: 12px;\n",
       "    }\n",
       "\n",
       "    .colab-df-convert {\n",
       "      background-color: #E8F0FE;\n",
       "      border: none;\n",
       "      border-radius: 50%;\n",
       "      cursor: pointer;\n",
       "      display: none;\n",
       "      fill: #1967D2;\n",
       "      height: 32px;\n",
       "      padding: 0 0 0 0;\n",
       "      width: 32px;\n",
       "    }\n",
       "\n",
       "    .colab-df-convert:hover {\n",
       "      background-color: #E2EBFA;\n",
       "      box-shadow: 0px 1px 2px rgba(60, 64, 67, 0.3), 0px 1px 3px 1px rgba(60, 64, 67, 0.15);\n",
       "      fill: #174EA6;\n",
       "    }\n",
       "\n",
       "    .colab-df-buttons div {\n",
       "      margin-bottom: 4px;\n",
       "    }\n",
       "\n",
       "    [theme=dark] .colab-df-convert {\n",
       "      background-color: #3B4455;\n",
       "      fill: #D2E3FC;\n",
       "    }\n",
       "\n",
       "    [theme=dark] .colab-df-convert:hover {\n",
       "      background-color: #434B5C;\n",
       "      box-shadow: 0px 1px 3px 1px rgba(0, 0, 0, 0.15);\n",
       "      filter: drop-shadow(0px 1px 2px rgba(0, 0, 0, 0.3));\n",
       "      fill: #FFFFFF;\n",
       "    }\n",
       "  </style>\n",
       "\n",
       "    <script>\n",
       "      const buttonEl =\n",
       "        document.querySelector('#df-a0507662-89e7-4585-966d-4c2b48df7768 button.colab-df-convert');\n",
       "      buttonEl.style.display =\n",
       "        google.colab.kernel.accessAllowed ? 'block' : 'none';\n",
       "\n",
       "      async function convertToInteractive(key) {\n",
       "        const element = document.querySelector('#df-a0507662-89e7-4585-966d-4c2b48df7768');\n",
       "        const dataTable =\n",
       "          await google.colab.kernel.invokeFunction('convertToInteractive',\n",
       "                                                    [key], {});\n",
       "        if (!dataTable) return;\n",
       "\n",
       "        const docLinkHtml = 'Like what you see? Visit the ' +\n",
       "          '<a target=\"_blank\" href=https://colab.research.google.com/notebooks/data_table.ipynb>data table notebook</a>'\n",
       "          + ' to learn more about interactive tables.';\n",
       "        element.innerHTML = '';\n",
       "        dataTable['output_type'] = 'display_data';\n",
       "        await google.colab.output.renderOutput(dataTable, element);\n",
       "        const docLink = document.createElement('div');\n",
       "        docLink.innerHTML = docLinkHtml;\n",
       "        element.appendChild(docLink);\n",
       "      }\n",
       "    </script>\n",
       "  </div>\n",
       "\n",
       "\n",
       "<div id=\"df-5435cc15-a3d7-4f53-94c7-886235995a63\">\n",
       "  <button class=\"colab-df-quickchart\" onclick=\"quickchart('df-5435cc15-a3d7-4f53-94c7-886235995a63')\"\n",
       "            title=\"Suggest charts\"\n",
       "            style=\"display:none;\">\n",
       "\n",
       "<svg xmlns=\"http://www.w3.org/2000/svg\" height=\"24px\"viewBox=\"0 0 24 24\"\n",
       "     width=\"24px\">\n",
       "    <g>\n",
       "        <path d=\"M19 3H5c-1.1 0-2 .9-2 2v14c0 1.1.9 2 2 2h14c1.1 0 2-.9 2-2V5c0-1.1-.9-2-2-2zM9 17H7v-7h2v7zm4 0h-2V7h2v10zm4 0h-2v-4h2v4z\"/>\n",
       "    </g>\n",
       "</svg>\n",
       "  </button>\n",
       "\n",
       "<style>\n",
       "  .colab-df-quickchart {\n",
       "      --bg-color: #E8F0FE;\n",
       "      --fill-color: #1967D2;\n",
       "      --hover-bg-color: #E2EBFA;\n",
       "      --hover-fill-color: #174EA6;\n",
       "      --disabled-fill-color: #AAA;\n",
       "      --disabled-bg-color: #DDD;\n",
       "  }\n",
       "\n",
       "  [theme=dark] .colab-df-quickchart {\n",
       "      --bg-color: #3B4455;\n",
       "      --fill-color: #D2E3FC;\n",
       "      --hover-bg-color: #434B5C;\n",
       "      --hover-fill-color: #FFFFFF;\n",
       "      --disabled-bg-color: #3B4455;\n",
       "      --disabled-fill-color: #666;\n",
       "  }\n",
       "\n",
       "  .colab-df-quickchart {\n",
       "    background-color: var(--bg-color);\n",
       "    border: none;\n",
       "    border-radius: 50%;\n",
       "    cursor: pointer;\n",
       "    display: none;\n",
       "    fill: var(--fill-color);\n",
       "    height: 32px;\n",
       "    padding: 0;\n",
       "    width: 32px;\n",
       "  }\n",
       "\n",
       "  .colab-df-quickchart:hover {\n",
       "    background-color: var(--hover-bg-color);\n",
       "    box-shadow: 0 1px 2px rgba(60, 64, 67, 0.3), 0 1px 3px 1px rgba(60, 64, 67, 0.15);\n",
       "    fill: var(--button-hover-fill-color);\n",
       "  }\n",
       "\n",
       "  .colab-df-quickchart-complete:disabled,\n",
       "  .colab-df-quickchart-complete:disabled:hover {\n",
       "    background-color: var(--disabled-bg-color);\n",
       "    fill: var(--disabled-fill-color);\n",
       "    box-shadow: none;\n",
       "  }\n",
       "\n",
       "  .colab-df-spinner {\n",
       "    border: 2px solid var(--fill-color);\n",
       "    border-color: transparent;\n",
       "    border-bottom-color: var(--fill-color);\n",
       "    animation:\n",
       "      spin 1s steps(1) infinite;\n",
       "  }\n",
       "\n",
       "  @keyframes spin {\n",
       "    0% {\n",
       "      border-color: transparent;\n",
       "      border-bottom-color: var(--fill-color);\n",
       "      border-left-color: var(--fill-color);\n",
       "    }\n",
       "    20% {\n",
       "      border-color: transparent;\n",
       "      border-left-color: var(--fill-color);\n",
       "      border-top-color: var(--fill-color);\n",
       "    }\n",
       "    30% {\n",
       "      border-color: transparent;\n",
       "      border-left-color: var(--fill-color);\n",
       "      border-top-color: var(--fill-color);\n",
       "      border-right-color: var(--fill-color);\n",
       "    }\n",
       "    40% {\n",
       "      border-color: transparent;\n",
       "      border-right-color: var(--fill-color);\n",
       "      border-top-color: var(--fill-color);\n",
       "    }\n",
       "    60% {\n",
       "      border-color: transparent;\n",
       "      border-right-color: var(--fill-color);\n",
       "    }\n",
       "    80% {\n",
       "      border-color: transparent;\n",
       "      border-right-color: var(--fill-color);\n",
       "      border-bottom-color: var(--fill-color);\n",
       "    }\n",
       "    90% {\n",
       "      border-color: transparent;\n",
       "      border-bottom-color: var(--fill-color);\n",
       "    }\n",
       "  }\n",
       "</style>\n",
       "\n",
       "  <script>\n",
       "    async function quickchart(key) {\n",
       "      const quickchartButtonEl =\n",
       "        document.querySelector('#' + key + ' button');\n",
       "      quickchartButtonEl.disabled = true;  // To prevent multiple clicks.\n",
       "      quickchartButtonEl.classList.add('colab-df-spinner');\n",
       "      try {\n",
       "        const charts = await google.colab.kernel.invokeFunction(\n",
       "            'suggestCharts', [key], {});\n",
       "      } catch (error) {\n",
       "        console.error('Error during call to suggestCharts:', error);\n",
       "      }\n",
       "      quickchartButtonEl.classList.remove('colab-df-spinner');\n",
       "      quickchartButtonEl.classList.add('colab-df-quickchart-complete');\n",
       "    }\n",
       "    (() => {\n",
       "      let quickchartButtonEl =\n",
       "        document.querySelector('#df-5435cc15-a3d7-4f53-94c7-886235995a63 button');\n",
       "      quickchartButtonEl.style.display =\n",
       "        google.colab.kernel.accessAllowed ? 'block' : 'none';\n",
       "    })();\n",
       "  </script>\n",
       "</div>\n",
       "\n",
       "    </div>\n",
       "  </div>\n"
      ],
      "text/plain": [
       "   PUBCHEM_RESULT_TAG  PUBCHEM_SID  PUBCHEM_CID  \\\n",
       "0                   1    103243193   10539813.0   \n",
       "1                   2    103243498   10084377.0   \n",
       "2                   1    103243498   10084377.0   \n",
       "3                   1    103243498   10084377.0   \n",
       "4                   1    103243193   10539813.0   \n",
       "\n",
       "                PUBCHEM_EXT_DATASOURCE_SMILES PUBCHEM_ACTIVITY_OUTCOME  \\\n",
       "0  C1=CC(=CC=C1CC2=CC(=O)C3=C(O2)C=CC(=C3)O)O              Unspecified   \n",
       "1  C1=CC(=CC=C1CC2=CC(=O)C3=C(O2)C=C(C=C3)O)O              Unspecified   \n",
       "2  C1=CC(=CC=C1CC2=CC(=O)C3=C(O2)C=C(C=C3)O)O              Unspecified   \n",
       "3  C1=CC(=CC=C1CC2=CC(=O)C3=C(O2)C=C(C=C3)O)O              Unspecified   \n",
       "4  C1=CC(=CC=C1CC2=CC(=O)C3=C(O2)C=CC(=C3)O)O              Unspecified   \n",
       "\n",
       "   PUBCHEM_ACTIVITY_SCORE  PUBCHEM_ACTIVITY_URL PUBCHEM_ASSAYDATA_COMMENT  \\\n",
       "0                     NaN                   NaN                       NaN   \n",
       "1                     NaN                   NaN                       NaN   \n",
       "2                     NaN                   NaN                       NaN   \n",
       "3                     NaN                   NaN                       NaN   \n",
       "4                     NaN                   NaN                       NaN   \n",
       "\n",
       "  Standard.Type Standard.Relation  ...  PubChem.Standard.Value  \\\n",
       "0      Activity                 =  ...                     NaN   \n",
       "1      Activity                 =  ...                     NaN   \n",
       "2      Activity                 =  ...                     NaN   \n",
       "3      Activity                 =  ...                     NaN   \n",
       "4      Activity                 =  ...                     NaN   \n",
       "\n",
       "  Activity.Comment  source Data.Validity.Comment IC50 Target.Accession.s.  \\\n",
       "0              NaN     NaN                   NaN  NaN                 NaN   \n",
       "1              NaN     NaN                   NaN  NaN                 NaN   \n",
       "2              NaN     NaN                   NaN  NaN                 NaN   \n",
       "3              NaN     NaN                   NaN  NaN                 NaN   \n",
       "4              NaN     NaN                   NaN  NaN                 NaN   \n",
       "\n",
       "   Ligand Target  Ki  Kd  \n",
       "0     NaN    NaN NaN NaN  \n",
       "1     NaN    NaN NaN NaN  \n",
       "2     NaN    NaN NaN NaN  \n",
       "3     NaN    NaN NaN NaN  \n",
       "4     NaN    NaN NaN NaN  \n",
       "\n",
       "[5 rows x 22 columns]"
      ]
     },
     "execution_count": 4,
     "metadata": {},
     "output_type": "execute_result"
    }
   ],
   "source": [
    "combined_data.head()"
   ]
  },
  {
   "cell_type": "code",
   "execution_count": 5,
   "metadata": {
    "colab": {
     "base_uri": "https://localhost:8080/"
    },
    "executionInfo": {
     "elapsed": 29,
     "status": "ok",
     "timestamp": 1710100054046,
     "user": {
      "displayName": "Palesa Tjale",
      "userId": "03417757512324219792"
     },
     "user_tz": -120
    },
    "id": "bWO4ynXX-Ifm",
    "outputId": "e3b1c653-e8df-4bff-82cf-7b8089c51421"
   },
   "outputs": [
    {
     "name": "stdout",
     "output_type": "stream",
     "text": [
      "25904 22\n"
     ]
    }
   ],
   "source": [
    "num_rows, num_columns = combined_data.shape\n",
    "print(num_rows, num_columns)"
   ]
  },
  {
   "cell_type": "code",
   "execution_count": 6,
   "metadata": {
    "colab": {
     "base_uri": "https://localhost:8080/"
    },
    "executionInfo": {
     "elapsed": 25,
     "status": "ok",
     "timestamp": 1710100054047,
     "user": {
      "displayName": "Palesa Tjale",
      "userId": "03417757512324219792"
     },
     "user_tz": -120
    },
    "id": "D9gf6n-j-A2K",
    "outputId": "1751f8ea-0de9-477f-9936-497ccbd74c10"
   },
   "outputs": [
    {
     "data": {
      "text/plain": [
       "PUBCHEM_RESULT_TAG                   0\n",
       "PUBCHEM_SID                          0\n",
       "PUBCHEM_CID                        130\n",
       "PUBCHEM_EXT_DATASOURCE_SMILES      130\n",
       "PUBCHEM_ACTIVITY_OUTCOME             0\n",
       "PUBCHEM_ACTIVITY_SCORE           25904\n",
       "PUBCHEM_ACTIVITY_URL             25904\n",
       "PUBCHEM_ASSAYDATA_COMMENT        19830\n",
       "Standard.Type                        0\n",
       "Standard.Relation                 6598\n",
       "Standard.Value                    6600\n",
       "Standard.Units                    6616\n",
       "PubChem.Standard.Value           16804\n",
       "Activity.Comment                 19846\n",
       "source                            8110\n",
       "Data.Validity.Comment            25062\n",
       "IC50                             25470\n",
       "Target.Accession.s.              25378\n",
       "Ligand                           25378\n",
       "Target                           25378\n",
       "Ki                               25826\n",
       "Kd                               25890\n",
       "dtype: int64"
      ]
     },
     "execution_count": 6,
     "metadata": {},
     "output_type": "execute_result"
    }
   ],
   "source": [
    "combined_data.isnull().sum()"
   ]
  },
  {
   "cell_type": "code",
   "execution_count": 7,
   "metadata": {
    "colab": {
     "base_uri": "https://localhost:8080/"
    },
    "executionInfo": {
     "elapsed": 24,
     "status": "ok",
     "timestamp": 1710100054048,
     "user": {
      "displayName": "Palesa Tjale",
      "userId": "03417757512324219792"
     },
     "user_tz": -120
    },
    "id": "V5FOH3bK-oAJ",
    "outputId": "65d20a53-acda-4beb-d419-76732666b542"
   },
   "outputs": [
    {
     "data": {
      "text/plain": [
       "13112"
      ]
     },
     "execution_count": 7,
     "metadata": {},
     "output_type": "execute_result"
    }
   ],
   "source": [
    "combined_data.duplicated().sum()"
   ]
  },
  {
   "cell_type": "code",
   "execution_count": 8,
   "metadata": {
    "colab": {
     "base_uri": "https://localhost:8080/"
    },
    "executionInfo": {
     "elapsed": 21,
     "status": "ok",
     "timestamp": 1710100054048,
     "user": {
      "displayName": "Palesa Tjale",
      "userId": "03417757512324219792"
     },
     "user_tz": -120
    },
    "id": "wk8yJDTXBmV3",
    "outputId": "6d6486d0-5e6c-4acd-ed3b-a911f23076f2"
   },
   "outputs": [
    {
     "name": "stdout",
     "output_type": "stream",
     "text": [
      "Index(['PUBCHEM_RESULT_TAG', 'PUBCHEM_SID', 'PUBCHEM_CID',\n",
      "       'PUBCHEM_EXT_DATASOURCE_SMILES', 'PUBCHEM_ACTIVITY_OUTCOME',\n",
      "       'PUBCHEM_ACTIVITY_SCORE', 'PUBCHEM_ACTIVITY_URL',\n",
      "       'PUBCHEM_ASSAYDATA_COMMENT', 'Standard.Type', 'Standard.Relation',\n",
      "       'Standard.Value', 'Standard.Units', 'PubChem.Standard.Value',\n",
      "       'Activity.Comment', 'source', 'Data.Validity.Comment', 'IC50',\n",
      "       'Target.Accession.s.', 'Ligand', 'Target', 'Ki', 'Kd'],\n",
      "      dtype='object')\n"
     ]
    }
   ],
   "source": [
    "print(combined_data.columns)"
   ]
  },
  {
   "cell_type": "markdown",
   "metadata": {
    "id": "SogGe9Zf9y9C"
   },
   "source": [
    "# preprocessing"
   ]
  },
  {
   "cell_type": "code",
   "execution_count": 9,
   "metadata": {
    "executionInfo": {
     "elapsed": 18,
     "status": "ok",
     "timestamp": 1710100054048,
     "user": {
      "displayName": "Palesa Tjale",
      "userId": "03417757512324219792"
     },
     "user_tz": -120
    },
    "id": "GM3WMhF8xBtF"
   },
   "outputs": [],
   "source": [
    "#dropping  columns\n",
    "columns_to_remove = ['PUBCHEM_ACTIVITY_SCORE', 'PUBCHEM_ACTIVITY_URL', 'PUBCHEM_ASSAYDATA_COMMENT',\n",
    "                     'Data.Validity.Comment', 'IC50', 'Target.Accession.s.', 'Ligand', 'Target', 'Ki', 'Kd']\n",
    "\n",
    "combined_data = combined_data.drop(columns=columns_to_remove)"
   ]
  },
  {
   "cell_type": "code",
   "execution_count": 10,
   "metadata": {
    "executionInfo": {
     "elapsed": 18,
     "status": "ok",
     "timestamp": 1710100054049,
     "user": {
      "displayName": "Palesa Tjale",
      "userId": "03417757512324219792"
     },
     "user_tz": -120
    },
    "id": "3yyj5bdQDWPS"
   },
   "outputs": [],
   "source": [
    "columns_to_remove = ['PubChem.Standard.Value', 'Activity.Comment', 'source']\n",
    "\n",
    "combined_data = combined_data.drop(columns=columns_to_remove)"
   ]
  },
  {
   "cell_type": "code",
   "execution_count": 11,
   "metadata": {
    "colab": {
     "base_uri": "https://localhost:8080/"
    },
    "executionInfo": {
     "elapsed": 18,
     "status": "ok",
     "timestamp": 1710100054049,
     "user": {
      "displayName": "Palesa Tjale",
      "userId": "03417757512324219792"
     },
     "user_tz": -120
    },
    "id": "xOMCHnnkC41F",
    "outputId": "09302297-b584-4007-fecf-c3b788458378"
   },
   "outputs": [
    {
     "data": {
      "text/plain": [
       "PUBCHEM_RESULT_TAG                  0\n",
       "PUBCHEM_SID                         0\n",
       "PUBCHEM_CID                       130\n",
       "PUBCHEM_EXT_DATASOURCE_SMILES     130\n",
       "PUBCHEM_ACTIVITY_OUTCOME            0\n",
       "Standard.Type                       0\n",
       "Standard.Relation                6598\n",
       "Standard.Value                   6600\n",
       "Standard.Units                   6616\n",
       "dtype: int64"
      ]
     },
     "execution_count": 11,
     "metadata": {},
     "output_type": "execute_result"
    }
   ],
   "source": [
    "combined_data.isnull().sum()"
   ]
  },
  {
   "cell_type": "code",
   "execution_count": 12,
   "metadata": {
    "colab": {
     "base_uri": "https://localhost:8080/"
    },
    "executionInfo": {
     "elapsed": 15,
     "status": "ok",
     "timestamp": 1710100054049,
     "user": {
      "displayName": "Palesa Tjale",
      "userId": "03417757512324219792"
     },
     "user_tz": -120
    },
    "id": "rnm1AvNXFeTc",
    "outputId": "0b0c168a-e38b-4ea9-9238-06681c323d62"
   },
   "outputs": [
    {
     "name": "stdout",
     "output_type": "stream",
     "text": [
      "Number of compounds with the same CID: 25774\n"
     ]
    }
   ],
   "source": [
    "# Check if the compounds in 'PUBCHEM_CID' of the new dataset are present in the 'cid' column of the previous dataset\n",
    "same_compounds = combined_data['PUBCHEM_CID'].isin(pubchem['cid'])\n",
    "\n",
    "# Count the number of compounds that are the same\n",
    "num_same_compounds = same_compounds.sum()\n",
    "\n",
    "print(\"Number of compounds with the same CID:\", num_same_compounds)"
   ]
  },
  {
   "cell_type": "code",
   "execution_count": 13,
   "metadata": {
    "executionInfo": {
     "elapsed": 669,
     "status": "ok",
     "timestamp": 1710100054705,
     "user": {
      "displayName": "Palesa Tjale",
      "userId": "03417757512324219792"
     },
     "user_tz": -120
    },
    "id": "xFYXOvzdm1XW"
   },
   "outputs": [],
   "source": [
    "#create a new df with informative columns only\n",
    "new_df = combined_data[['PUBCHEM_CID', 'PUBCHEM_EXT_DATASOURCE_SMILES', 'PUBCHEM_ACTIVITY_OUTCOME']]\n",
    "\n",
    "new_df.to_csv('new_dataframe.csv', index=False)"
   ]
  },
  {
   "cell_type": "code",
   "execution_count": 14,
   "metadata": {
    "colab": {
     "base_uri": "https://localhost:8080/"
    },
    "executionInfo": {
     "elapsed": 669,
     "status": "ok",
     "timestamp": 1710100054706,
     "user": {
      "displayName": "Palesa Tjale",
      "userId": "03417757512324219792"
     },
     "user_tz": -120
    },
    "id": "_jAMg70um_8y",
    "outputId": "ebb3f19a-5078-4e09-fe66-3be6a376a63e"
   },
   "outputs": [
    {
     "name": "stdout",
     "output_type": "stream",
     "text": [
      "        cid                                           cmpdname     mw  \\\n",
      "0  10412732  6-Fluoro-2-[[5-(trifluoromethyl)-1,3-benzothia...  477.4   \n",
      "1  10412732  6-Fluoro-2-[[5-(trifluoromethyl)-1,3-benzothia...  477.4   \n",
      "2  10412732  6-Fluoro-2-[[5-(trifluoromethyl)-1,3-benzothia...  477.4   \n",
      "3  10412732  6-Fluoro-2-[[5-(trifluoromethyl)-1,3-benzothia...  477.4   \n",
      "4  10412732  6-Fluoro-2-[[5-(trifluoromethyl)-1,3-benzothia...  477.4   \n",
      "\n",
      "              mf  polararea  complexity  xlogp  heavycnt  hbonddonor  \\\n",
      "0  C21H11F4N3O4S      125.0       901.0    2.7        33           1   \n",
      "1  C21H11F4N3O4S      125.0       901.0    2.7        33           1   \n",
      "2  C21H11F4N3O4S      125.0       901.0    2.7        33           1   \n",
      "3  C21H11F4N3O4S      125.0       901.0    2.7        33           1   \n",
      "4  C21H11F4N3O4S      125.0       901.0    2.7        33           1   \n",
      "\n",
      "   hbondacc  ...  gpfamilycnt neighbortype  \\\n",
      "0        10  ...            2        2D+3D   \n",
      "1        10  ...            2        2D+3D   \n",
      "2        10  ...            2        2D+3D   \n",
      "3        10  ...            2        2D+3D   \n",
      "4        10  ...            2        2D+3D   \n",
      "\n",
      "                                           annothits annothitcnt  \\\n",
      "0  Biological Test Results|Classification|Literat...           4   \n",
      "1  Biological Test Results|Classification|Literat...           4   \n",
      "2  Biological Test Results|Classification|Literat...           4   \n",
      "3  Biological Test Results|Classification|Literat...           4   \n",
      "4  Biological Test Results|Classification|Literat...           4   \n",
      "\n",
      "                                                aids  cidcdate  \\\n",
      "0  19449|34201|34205|185756|230202|230203|230204|...  20061025   \n",
      "1  19449|34201|34205|185756|230202|230203|230204|...  20061025   \n",
      "2  19449|34201|34205|185756|230202|230203|230204|...  20061025   \n",
      "3  19449|34201|34205|185756|230202|230203|230204|...  20061025   \n",
      "4  19449|34201|34205|185756|230202|230203|230204|...  20061025   \n",
      "\n",
      "                                          sidsrcname  \\\n",
      "0  BindingDB|ChEMBL|ChemSpider|DiscoveryGate|IBM|...   \n",
      "1  BindingDB|ChEMBL|ChemSpider|DiscoveryGate|IBM|...   \n",
      "2  BindingDB|ChEMBL|ChemSpider|DiscoveryGate|IBM|...   \n",
      "3  BindingDB|ChEMBL|ChemSpider|DiscoveryGate|IBM|...   \n",
      "4  BindingDB|ChEMBL|ChemSpider|DiscoveryGate|IBM|...   \n",
      "\n",
      "                                             depcatg  \\\n",
      "0  Curation Efforts|Governmental Organizations|Jo...   \n",
      "1  Curation Efforts|Governmental Organizations|Jo...   \n",
      "2  Curation Efforts|Governmental Organizations|Jo...   \n",
      "3  Curation Efforts|Governmental Organizations|Jo...   \n",
      "4  Curation Efforts|Governmental Organizations|Jo...   \n",
      "\n",
      "                       PUBCHEM_EXT_DATASOURCE_SMILES  PUBCHEM_ACTIVITY_OUTCOME  \n",
      "0  C1C(=O)NC(=O)C12C3=C(C=CC(=C3)F)C(=O)N(C2=O)CC...               Unspecified  \n",
      "1  C1C(=O)NC(=O)C12C3=C(C=CC(=C3)F)C(=O)N(C2=O)CC...               Unspecified  \n",
      "2  C1C(=O)NC(=O)C12C3=C(C=CC(=C3)F)C(=O)N(C2=O)CC...               Unspecified  \n",
      "3  C1C(=O)NC(=O)C12C3=C(C=CC(=C3)F)C(=O)N(C2=O)CC...               Unspecified  \n",
      "4  C1C(=O)NC(=O)C12C3=C(C=CC(=C3)F)C(=O)N(C2=O)CC...               Unspecified  \n",
      "\n",
      "[5 rows x 39 columns]\n"
     ]
    }
   ],
   "source": [
    "new_df = pd.read_csv('new_dataframe.csv')\n",
    "\n",
    "# Merge with the 'pubchem' dataset based on 'PUBCHEM_CID'\n",
    "merged_df = pd.merge(pubchem, new_df, left_on='cid', right_on='PUBCHEM_CID', how='inner')\n",
    "\n",
    "# Drop the redundant 'PUBCHEM_CID' column\n",
    "merged_df = merged_df.drop(columns=['PUBCHEM_CID'])\n",
    "\n",
    "# Print the merged DataFrame\n",
    "print(merged_df.head())"
   ]
  },
  {
   "cell_type": "code",
   "execution_count": 15,
   "metadata": {
    "colab": {
     "base_uri": "https://localhost:8080/"
    },
    "executionInfo": {
     "elapsed": 17,
     "status": "ok",
     "timestamp": 1710100054706,
     "user": {
      "displayName": "Palesa Tjale",
      "userId": "03417757512324219792"
     },
     "user_tz": -120
    },
    "id": "DKCpuEHSnS_a",
    "outputId": "b58ce3cd-96cf-4707-cc9f-92345373915a"
   },
   "outputs": [
    {
     "data": {
      "text/plain": [
       "cid                               0\n",
       "cmpdname                          0\n",
       "mw                                0\n",
       "mf                                0\n",
       "polararea                         0\n",
       "complexity                        0\n",
       "xlogp                             0\n",
       "heavycnt                          0\n",
       "hbonddonor                        0\n",
       "hbondacc                          0\n",
       "rotbonds                          0\n",
       "inchi                             0\n",
       "isosmiles                         0\n",
       "canonicalsmiles                   0\n",
       "inchikey                          0\n",
       "iupacname                         0\n",
       "exactmass                         0\n",
       "monoisotopicmass                  0\n",
       "charge                            0\n",
       "covalentunitcnt                   0\n",
       "isotopeatomcnt                    0\n",
       "totalatomstereocnt                0\n",
       "definedatomstereocnt              0\n",
       "undefinedatomstereocnt            0\n",
       "totalbondstereocnt                0\n",
       "definedbondstereocnt              0\n",
       "undefinedbondstereocnt            0\n",
       "pclidcnt                          0\n",
       "gpidcnt                           0\n",
       "gpfamilycnt                       0\n",
       "neighbortype                     44\n",
       "annothits                         0\n",
       "annothitcnt                       0\n",
       "aids                              0\n",
       "cidcdate                          0\n",
       "sidsrcname                        0\n",
       "depcatg                           0\n",
       "PUBCHEM_EXT_DATASOURCE_SMILES     0\n",
       "PUBCHEM_ACTIVITY_OUTCOME          0\n",
       "dtype: int64"
      ]
     },
     "execution_count": 15,
     "metadata": {},
     "output_type": "execute_result"
    }
   ],
   "source": [
    "merged_df.isnull().sum()"
   ]
  },
  {
   "cell_type": "code",
   "execution_count": 16,
   "metadata": {
    "colab": {
     "base_uri": "https://localhost:8080/",
     "height": 777
    },
    "executionInfo": {
     "elapsed": 14,
     "status": "ok",
     "timestamp": 1710100054706,
     "user": {
      "displayName": "Palesa Tjale",
      "userId": "03417757512324219792"
     },
     "user_tz": -120
    },
    "id": "9VYNCAqtnxJW",
    "outputId": "30f33375-f30b-4810-aba1-fb04f5102117"
   },
   "outputs": [
    {
     "data": {
      "application/vnd.google.colaboratory.intrinsic+json": {
       "type": "dataframe",
       "variable_name": "merged_df"
      },
      "text/html": [
       "\n",
       "  <div id=\"df-a15b3a0b-4161-452d-b85a-0833657232a2\" class=\"colab-df-container\">\n",
       "    <div>\n",
       "<style scoped>\n",
       "    .dataframe tbody tr th:only-of-type {\n",
       "        vertical-align: middle;\n",
       "    }\n",
       "\n",
       "    .dataframe tbody tr th {\n",
       "        vertical-align: top;\n",
       "    }\n",
       "\n",
       "    .dataframe thead th {\n",
       "        text-align: right;\n",
       "    }\n",
       "</style>\n",
       "<table border=\"1\" class=\"dataframe\">\n",
       "  <thead>\n",
       "    <tr style=\"text-align: right;\">\n",
       "      <th></th>\n",
       "      <th>cid</th>\n",
       "      <th>cmpdname</th>\n",
       "      <th>mw</th>\n",
       "      <th>mf</th>\n",
       "      <th>polararea</th>\n",
       "      <th>complexity</th>\n",
       "      <th>xlogp</th>\n",
       "      <th>heavycnt</th>\n",
       "      <th>hbonddonor</th>\n",
       "      <th>hbondacc</th>\n",
       "      <th>...</th>\n",
       "      <th>gpfamilycnt</th>\n",
       "      <th>neighbortype</th>\n",
       "      <th>annothits</th>\n",
       "      <th>annothitcnt</th>\n",
       "      <th>aids</th>\n",
       "      <th>cidcdate</th>\n",
       "      <th>sidsrcname</th>\n",
       "      <th>depcatg</th>\n",
       "      <th>PUBCHEM_EXT_DATASOURCE_SMILES</th>\n",
       "      <th>PUBCHEM_ACTIVITY_OUTCOME</th>\n",
       "    </tr>\n",
       "  </thead>\n",
       "  <tbody>\n",
       "    <tr>\n",
       "      <th>0</th>\n",
       "      <td>10412732</td>\n",
       "      <td>6-Fluoro-2-[[5-(trifluoromethyl)-1,3-benzothia...</td>\n",
       "      <td>477.4</td>\n",
       "      <td>C21H11F4N3O4S</td>\n",
       "      <td>125.0</td>\n",
       "      <td>901.0</td>\n",
       "      <td>2.7</td>\n",
       "      <td>33</td>\n",
       "      <td>1</td>\n",
       "      <td>10</td>\n",
       "      <td>...</td>\n",
       "      <td>2</td>\n",
       "      <td>2D+3D</td>\n",
       "      <td>Biological Test Results|Classification|Literat...</td>\n",
       "      <td>4</td>\n",
       "      <td>19449|34201|34205|185756|230202|230203|230204|...</td>\n",
       "      <td>20061025</td>\n",
       "      <td>BindingDB|ChEMBL|ChemSpider|DiscoveryGate|IBM|...</td>\n",
       "      <td>Curation Efforts|Governmental Organizations|Jo...</td>\n",
       "      <td>C1C(=O)NC(=O)C12C3=C(C=CC(=C3)F)C(=O)N(C2=O)CC...</td>\n",
       "      <td>Unspecified</td>\n",
       "    </tr>\n",
       "    <tr>\n",
       "      <th>1</th>\n",
       "      <td>10412732</td>\n",
       "      <td>6-Fluoro-2-[[5-(trifluoromethyl)-1,3-benzothia...</td>\n",
       "      <td>477.4</td>\n",
       "      <td>C21H11F4N3O4S</td>\n",
       "      <td>125.0</td>\n",
       "      <td>901.0</td>\n",
       "      <td>2.7</td>\n",
       "      <td>33</td>\n",
       "      <td>1</td>\n",
       "      <td>10</td>\n",
       "      <td>...</td>\n",
       "      <td>2</td>\n",
       "      <td>2D+3D</td>\n",
       "      <td>Biological Test Results|Classification|Literat...</td>\n",
       "      <td>4</td>\n",
       "      <td>19449|34201|34205|185756|230202|230203|230204|...</td>\n",
       "      <td>20061025</td>\n",
       "      <td>BindingDB|ChEMBL|ChemSpider|DiscoveryGate|IBM|...</td>\n",
       "      <td>Curation Efforts|Governmental Organizations|Jo...</td>\n",
       "      <td>C1C(=O)NC(=O)C12C3=C(C=CC(=C3)F)C(=O)N(C2=O)CC...</td>\n",
       "      <td>Unspecified</td>\n",
       "    </tr>\n",
       "    <tr>\n",
       "      <th>2</th>\n",
       "      <td>10412732</td>\n",
       "      <td>6-Fluoro-2-[[5-(trifluoromethyl)-1,3-benzothia...</td>\n",
       "      <td>477.4</td>\n",
       "      <td>C21H11F4N3O4S</td>\n",
       "      <td>125.0</td>\n",
       "      <td>901.0</td>\n",
       "      <td>2.7</td>\n",
       "      <td>33</td>\n",
       "      <td>1</td>\n",
       "      <td>10</td>\n",
       "      <td>...</td>\n",
       "      <td>2</td>\n",
       "      <td>2D+3D</td>\n",
       "      <td>Biological Test Results|Classification|Literat...</td>\n",
       "      <td>4</td>\n",
       "      <td>19449|34201|34205|185756|230202|230203|230204|...</td>\n",
       "      <td>20061025</td>\n",
       "      <td>BindingDB|ChEMBL|ChemSpider|DiscoveryGate|IBM|...</td>\n",
       "      <td>Curation Efforts|Governmental Organizations|Jo...</td>\n",
       "      <td>C1C(=O)NC(=O)C12C3=C(C=CC(=C3)F)C(=O)N(C2=O)CC...</td>\n",
       "      <td>Unspecified</td>\n",
       "    </tr>\n",
       "    <tr>\n",
       "      <th>3</th>\n",
       "      <td>10412732</td>\n",
       "      <td>6-Fluoro-2-[[5-(trifluoromethyl)-1,3-benzothia...</td>\n",
       "      <td>477.4</td>\n",
       "      <td>C21H11F4N3O4S</td>\n",
       "      <td>125.0</td>\n",
       "      <td>901.0</td>\n",
       "      <td>2.7</td>\n",
       "      <td>33</td>\n",
       "      <td>1</td>\n",
       "      <td>10</td>\n",
       "      <td>...</td>\n",
       "      <td>2</td>\n",
       "      <td>2D+3D</td>\n",
       "      <td>Biological Test Results|Classification|Literat...</td>\n",
       "      <td>4</td>\n",
       "      <td>19449|34201|34205|185756|230202|230203|230204|...</td>\n",
       "      <td>20061025</td>\n",
       "      <td>BindingDB|ChEMBL|ChemSpider|DiscoveryGate|IBM|...</td>\n",
       "      <td>Curation Efforts|Governmental Organizations|Jo...</td>\n",
       "      <td>C1C(=O)NC(=O)C12C3=C(C=CC(=C3)F)C(=O)N(C2=O)CC...</td>\n",
       "      <td>Unspecified</td>\n",
       "    </tr>\n",
       "    <tr>\n",
       "      <th>4</th>\n",
       "      <td>10412732</td>\n",
       "      <td>6-Fluoro-2-[[5-(trifluoromethyl)-1,3-benzothia...</td>\n",
       "      <td>477.4</td>\n",
       "      <td>C21H11F4N3O4S</td>\n",
       "      <td>125.0</td>\n",
       "      <td>901.0</td>\n",
       "      <td>2.7</td>\n",
       "      <td>33</td>\n",
       "      <td>1</td>\n",
       "      <td>10</td>\n",
       "      <td>...</td>\n",
       "      <td>2</td>\n",
       "      <td>2D+3D</td>\n",
       "      <td>Biological Test Results|Classification|Literat...</td>\n",
       "      <td>4</td>\n",
       "      <td>19449|34201|34205|185756|230202|230203|230204|...</td>\n",
       "      <td>20061025</td>\n",
       "      <td>BindingDB|ChEMBL|ChemSpider|DiscoveryGate|IBM|...</td>\n",
       "      <td>Curation Efforts|Governmental Organizations|Jo...</td>\n",
       "      <td>C1C(=O)NC(=O)C12C3=C(C=CC(=C3)F)C(=O)N(C2=O)CC...</td>\n",
       "      <td>Unspecified</td>\n",
       "    </tr>\n",
       "  </tbody>\n",
       "</table>\n",
       "<p>5 rows × 39 columns</p>\n",
       "</div>\n",
       "    <div class=\"colab-df-buttons\">\n",
       "\n",
       "  <div class=\"colab-df-container\">\n",
       "    <button class=\"colab-df-convert\" onclick=\"convertToInteractive('df-a15b3a0b-4161-452d-b85a-0833657232a2')\"\n",
       "            title=\"Convert this dataframe to an interactive table.\"\n",
       "            style=\"display:none;\">\n",
       "\n",
       "  <svg xmlns=\"http://www.w3.org/2000/svg\" height=\"24px\" viewBox=\"0 -960 960 960\">\n",
       "    <path d=\"M120-120v-720h720v720H120Zm60-500h600v-160H180v160Zm220 220h160v-160H400v160Zm0 220h160v-160H400v160ZM180-400h160v-160H180v160Zm440 0h160v-160H620v160ZM180-180h160v-160H180v160Zm440 0h160v-160H620v160Z\"/>\n",
       "  </svg>\n",
       "    </button>\n",
       "\n",
       "  <style>\n",
       "    .colab-df-container {\n",
       "      display:flex;\n",
       "      gap: 12px;\n",
       "    }\n",
       "\n",
       "    .colab-df-convert {\n",
       "      background-color: #E8F0FE;\n",
       "      border: none;\n",
       "      border-radius: 50%;\n",
       "      cursor: pointer;\n",
       "      display: none;\n",
       "      fill: #1967D2;\n",
       "      height: 32px;\n",
       "      padding: 0 0 0 0;\n",
       "      width: 32px;\n",
       "    }\n",
       "\n",
       "    .colab-df-convert:hover {\n",
       "      background-color: #E2EBFA;\n",
       "      box-shadow: 0px 1px 2px rgba(60, 64, 67, 0.3), 0px 1px 3px 1px rgba(60, 64, 67, 0.15);\n",
       "      fill: #174EA6;\n",
       "    }\n",
       "\n",
       "    .colab-df-buttons div {\n",
       "      margin-bottom: 4px;\n",
       "    }\n",
       "\n",
       "    [theme=dark] .colab-df-convert {\n",
       "      background-color: #3B4455;\n",
       "      fill: #D2E3FC;\n",
       "    }\n",
       "\n",
       "    [theme=dark] .colab-df-convert:hover {\n",
       "      background-color: #434B5C;\n",
       "      box-shadow: 0px 1px 3px 1px rgba(0, 0, 0, 0.15);\n",
       "      filter: drop-shadow(0px 1px 2px rgba(0, 0, 0, 0.3));\n",
       "      fill: #FFFFFF;\n",
       "    }\n",
       "  </style>\n",
       "\n",
       "    <script>\n",
       "      const buttonEl =\n",
       "        document.querySelector('#df-a15b3a0b-4161-452d-b85a-0833657232a2 button.colab-df-convert');\n",
       "      buttonEl.style.display =\n",
       "        google.colab.kernel.accessAllowed ? 'block' : 'none';\n",
       "\n",
       "      async function convertToInteractive(key) {\n",
       "        const element = document.querySelector('#df-a15b3a0b-4161-452d-b85a-0833657232a2');\n",
       "        const dataTable =\n",
       "          await google.colab.kernel.invokeFunction('convertToInteractive',\n",
       "                                                    [key], {});\n",
       "        if (!dataTable) return;\n",
       "\n",
       "        const docLinkHtml = 'Like what you see? Visit the ' +\n",
       "          '<a target=\"_blank\" href=https://colab.research.google.com/notebooks/data_table.ipynb>data table notebook</a>'\n",
       "          + ' to learn more about interactive tables.';\n",
       "        element.innerHTML = '';\n",
       "        dataTable['output_type'] = 'display_data';\n",
       "        await google.colab.output.renderOutput(dataTable, element);\n",
       "        const docLink = document.createElement('div');\n",
       "        docLink.innerHTML = docLinkHtml;\n",
       "        element.appendChild(docLink);\n",
       "      }\n",
       "    </script>\n",
       "  </div>\n",
       "\n",
       "\n",
       "<div id=\"df-112ce6b7-2fc5-4c1f-8a7b-90b070a579e3\">\n",
       "  <button class=\"colab-df-quickchart\" onclick=\"quickchart('df-112ce6b7-2fc5-4c1f-8a7b-90b070a579e3')\"\n",
       "            title=\"Suggest charts\"\n",
       "            style=\"display:none;\">\n",
       "\n",
       "<svg xmlns=\"http://www.w3.org/2000/svg\" height=\"24px\"viewBox=\"0 0 24 24\"\n",
       "     width=\"24px\">\n",
       "    <g>\n",
       "        <path d=\"M19 3H5c-1.1 0-2 .9-2 2v14c0 1.1.9 2 2 2h14c1.1 0 2-.9 2-2V5c0-1.1-.9-2-2-2zM9 17H7v-7h2v7zm4 0h-2V7h2v10zm4 0h-2v-4h2v4z\"/>\n",
       "    </g>\n",
       "</svg>\n",
       "  </button>\n",
       "\n",
       "<style>\n",
       "  .colab-df-quickchart {\n",
       "      --bg-color: #E8F0FE;\n",
       "      --fill-color: #1967D2;\n",
       "      --hover-bg-color: #E2EBFA;\n",
       "      --hover-fill-color: #174EA6;\n",
       "      --disabled-fill-color: #AAA;\n",
       "      --disabled-bg-color: #DDD;\n",
       "  }\n",
       "\n",
       "  [theme=dark] .colab-df-quickchart {\n",
       "      --bg-color: #3B4455;\n",
       "      --fill-color: #D2E3FC;\n",
       "      --hover-bg-color: #434B5C;\n",
       "      --hover-fill-color: #FFFFFF;\n",
       "      --disabled-bg-color: #3B4455;\n",
       "      --disabled-fill-color: #666;\n",
       "  }\n",
       "\n",
       "  .colab-df-quickchart {\n",
       "    background-color: var(--bg-color);\n",
       "    border: none;\n",
       "    border-radius: 50%;\n",
       "    cursor: pointer;\n",
       "    display: none;\n",
       "    fill: var(--fill-color);\n",
       "    height: 32px;\n",
       "    padding: 0;\n",
       "    width: 32px;\n",
       "  }\n",
       "\n",
       "  .colab-df-quickchart:hover {\n",
       "    background-color: var(--hover-bg-color);\n",
       "    box-shadow: 0 1px 2px rgba(60, 64, 67, 0.3), 0 1px 3px 1px rgba(60, 64, 67, 0.15);\n",
       "    fill: var(--button-hover-fill-color);\n",
       "  }\n",
       "\n",
       "  .colab-df-quickchart-complete:disabled,\n",
       "  .colab-df-quickchart-complete:disabled:hover {\n",
       "    background-color: var(--disabled-bg-color);\n",
       "    fill: var(--disabled-fill-color);\n",
       "    box-shadow: none;\n",
       "  }\n",
       "\n",
       "  .colab-df-spinner {\n",
       "    border: 2px solid var(--fill-color);\n",
       "    border-color: transparent;\n",
       "    border-bottom-color: var(--fill-color);\n",
       "    animation:\n",
       "      spin 1s steps(1) infinite;\n",
       "  }\n",
       "\n",
       "  @keyframes spin {\n",
       "    0% {\n",
       "      border-color: transparent;\n",
       "      border-bottom-color: var(--fill-color);\n",
       "      border-left-color: var(--fill-color);\n",
       "    }\n",
       "    20% {\n",
       "      border-color: transparent;\n",
       "      border-left-color: var(--fill-color);\n",
       "      border-top-color: var(--fill-color);\n",
       "    }\n",
       "    30% {\n",
       "      border-color: transparent;\n",
       "      border-left-color: var(--fill-color);\n",
       "      border-top-color: var(--fill-color);\n",
       "      border-right-color: var(--fill-color);\n",
       "    }\n",
       "    40% {\n",
       "      border-color: transparent;\n",
       "      border-right-color: var(--fill-color);\n",
       "      border-top-color: var(--fill-color);\n",
       "    }\n",
       "    60% {\n",
       "      border-color: transparent;\n",
       "      border-right-color: var(--fill-color);\n",
       "    }\n",
       "    80% {\n",
       "      border-color: transparent;\n",
       "      border-right-color: var(--fill-color);\n",
       "      border-bottom-color: var(--fill-color);\n",
       "    }\n",
       "    90% {\n",
       "      border-color: transparent;\n",
       "      border-bottom-color: var(--fill-color);\n",
       "    }\n",
       "  }\n",
       "</style>\n",
       "\n",
       "  <script>\n",
       "    async function quickchart(key) {\n",
       "      const quickchartButtonEl =\n",
       "        document.querySelector('#' + key + ' button');\n",
       "      quickchartButtonEl.disabled = true;  // To prevent multiple clicks.\n",
       "      quickchartButtonEl.classList.add('colab-df-spinner');\n",
       "      try {\n",
       "        const charts = await google.colab.kernel.invokeFunction(\n",
       "            'suggestCharts', [key], {});\n",
       "      } catch (error) {\n",
       "        console.error('Error during call to suggestCharts:', error);\n",
       "      }\n",
       "      quickchartButtonEl.classList.remove('colab-df-spinner');\n",
       "      quickchartButtonEl.classList.add('colab-df-quickchart-complete');\n",
       "    }\n",
       "    (() => {\n",
       "      let quickchartButtonEl =\n",
       "        document.querySelector('#df-112ce6b7-2fc5-4c1f-8a7b-90b070a579e3 button');\n",
       "      quickchartButtonEl.style.display =\n",
       "        google.colab.kernel.accessAllowed ? 'block' : 'none';\n",
       "    })();\n",
       "  </script>\n",
       "</div>\n",
       "\n",
       "    </div>\n",
       "  </div>\n"
      ],
      "text/plain": [
       "        cid                                           cmpdname     mw  \\\n",
       "0  10412732  6-Fluoro-2-[[5-(trifluoromethyl)-1,3-benzothia...  477.4   \n",
       "1  10412732  6-Fluoro-2-[[5-(trifluoromethyl)-1,3-benzothia...  477.4   \n",
       "2  10412732  6-Fluoro-2-[[5-(trifluoromethyl)-1,3-benzothia...  477.4   \n",
       "3  10412732  6-Fluoro-2-[[5-(trifluoromethyl)-1,3-benzothia...  477.4   \n",
       "4  10412732  6-Fluoro-2-[[5-(trifluoromethyl)-1,3-benzothia...  477.4   \n",
       "\n",
       "              mf  polararea  complexity  xlogp  heavycnt  hbonddonor  \\\n",
       "0  C21H11F4N3O4S      125.0       901.0    2.7        33           1   \n",
       "1  C21H11F4N3O4S      125.0       901.0    2.7        33           1   \n",
       "2  C21H11F4N3O4S      125.0       901.0    2.7        33           1   \n",
       "3  C21H11F4N3O4S      125.0       901.0    2.7        33           1   \n",
       "4  C21H11F4N3O4S      125.0       901.0    2.7        33           1   \n",
       "\n",
       "   hbondacc  ...  gpfamilycnt neighbortype  \\\n",
       "0        10  ...            2        2D+3D   \n",
       "1        10  ...            2        2D+3D   \n",
       "2        10  ...            2        2D+3D   \n",
       "3        10  ...            2        2D+3D   \n",
       "4        10  ...            2        2D+3D   \n",
       "\n",
       "                                           annothits annothitcnt  \\\n",
       "0  Biological Test Results|Classification|Literat...           4   \n",
       "1  Biological Test Results|Classification|Literat...           4   \n",
       "2  Biological Test Results|Classification|Literat...           4   \n",
       "3  Biological Test Results|Classification|Literat...           4   \n",
       "4  Biological Test Results|Classification|Literat...           4   \n",
       "\n",
       "                                                aids  cidcdate  \\\n",
       "0  19449|34201|34205|185756|230202|230203|230204|...  20061025   \n",
       "1  19449|34201|34205|185756|230202|230203|230204|...  20061025   \n",
       "2  19449|34201|34205|185756|230202|230203|230204|...  20061025   \n",
       "3  19449|34201|34205|185756|230202|230203|230204|...  20061025   \n",
       "4  19449|34201|34205|185756|230202|230203|230204|...  20061025   \n",
       "\n",
       "                                          sidsrcname  \\\n",
       "0  BindingDB|ChEMBL|ChemSpider|DiscoveryGate|IBM|...   \n",
       "1  BindingDB|ChEMBL|ChemSpider|DiscoveryGate|IBM|...   \n",
       "2  BindingDB|ChEMBL|ChemSpider|DiscoveryGate|IBM|...   \n",
       "3  BindingDB|ChEMBL|ChemSpider|DiscoveryGate|IBM|...   \n",
       "4  BindingDB|ChEMBL|ChemSpider|DiscoveryGate|IBM|...   \n",
       "\n",
       "                                             depcatg  \\\n",
       "0  Curation Efforts|Governmental Organizations|Jo...   \n",
       "1  Curation Efforts|Governmental Organizations|Jo...   \n",
       "2  Curation Efforts|Governmental Organizations|Jo...   \n",
       "3  Curation Efforts|Governmental Organizations|Jo...   \n",
       "4  Curation Efforts|Governmental Organizations|Jo...   \n",
       "\n",
       "                       PUBCHEM_EXT_DATASOURCE_SMILES  PUBCHEM_ACTIVITY_OUTCOME  \n",
       "0  C1C(=O)NC(=O)C12C3=C(C=CC(=C3)F)C(=O)N(C2=O)CC...               Unspecified  \n",
       "1  C1C(=O)NC(=O)C12C3=C(C=CC(=C3)F)C(=O)N(C2=O)CC...               Unspecified  \n",
       "2  C1C(=O)NC(=O)C12C3=C(C=CC(=C3)F)C(=O)N(C2=O)CC...               Unspecified  \n",
       "3  C1C(=O)NC(=O)C12C3=C(C=CC(=C3)F)C(=O)N(C2=O)CC...               Unspecified  \n",
       "4  C1C(=O)NC(=O)C12C3=C(C=CC(=C3)F)C(=O)N(C2=O)CC...               Unspecified  \n",
       "\n",
       "[5 rows x 39 columns]"
      ]
     },
     "execution_count": 16,
     "metadata": {},
     "output_type": "execute_result"
    }
   ],
   "source": [
    "merged_df.head()"
   ]
  },
  {
   "cell_type": "code",
   "execution_count": 17,
   "metadata": {
    "executionInfo": {
     "elapsed": 13,
     "status": "ok",
     "timestamp": 1710100054706,
     "user": {
      "displayName": "Palesa Tjale",
      "userId": "03417757512324219792"
     },
     "user_tz": -120
    },
    "id": "HSr9h8nOoxoz"
   },
   "outputs": [],
   "source": [
    "columns_to_drop = ['neighbortype', 'annothits', 'sidsrcname', 'depcatg']\n",
    "merged_df = merged_df.drop(columns=columns_to_drop)\n"
   ]
  },
  {
   "cell_type": "markdown",
   "metadata": {
    "id": "PkQdUhv6qFNl"
   },
   "source": [
    "# feature engineering"
   ]
  },
  {
   "cell_type": "code",
   "execution_count": 18,
   "metadata": {
    "colab": {
     "base_uri": "https://localhost:8080/"
    },
    "executionInfo": {
     "elapsed": 13,
     "status": "ok",
     "timestamp": 1710100054707,
     "user": {
      "displayName": "Palesa Tjale",
      "userId": "03417757512324219792"
     },
     "user_tz": -120
    },
    "id": "xlT7tmtmsihg",
    "outputId": "a9ce330a-261c-4209-8ee9-97d2b6390c1c"
   },
   "outputs": [
    {
     "name": "stdout",
     "output_type": "stream",
     "text": [
      "Index(['cid', 'cmpdname', 'mw', 'mf', 'polararea', 'complexity', 'xlogp',\n",
      "       'heavycnt', 'hbonddonor', 'hbondacc', 'rotbonds', 'inchi', 'isosmiles',\n",
      "       'canonicalsmiles', 'inchikey', 'iupacname', 'exactmass',\n",
      "       'monoisotopicmass', 'charge', 'covalentunitcnt', 'isotopeatomcnt',\n",
      "       'totalatomstereocnt', 'definedatomstereocnt', 'undefinedatomstereocnt',\n",
      "       'totalbondstereocnt', 'definedbondstereocnt', 'undefinedbondstereocnt',\n",
      "       'pclidcnt', 'gpidcnt', 'gpfamilycnt', 'annothitcnt', 'aids', 'cidcdate',\n",
      "       'PUBCHEM_EXT_DATASOURCE_SMILES', 'PUBCHEM_ACTIVITY_OUTCOME'],\n",
      "      dtype='object')\n"
     ]
    }
   ],
   "source": [
    "print(merged_df.columns)"
   ]
  },
  {
   "cell_type": "code",
   "execution_count": 19,
   "metadata": {
    "colab": {
     "base_uri": "https://localhost:8080/"
    },
    "executionInfo": {
     "elapsed": 11,
     "status": "ok",
     "timestamp": 1710100054707,
     "user": {
      "displayName": "Palesa Tjale",
      "userId": "03417757512324219792"
     },
     "user_tz": -120
    },
    "id": "FgjJ-_SMs0te",
    "outputId": "3db35fdb-fd0a-4128-8a8a-93c1a2a12089"
   },
   "outputs": [
    {
     "name": "stdout",
     "output_type": "stream",
     "text": [
      "cid                                int64\n",
      "cmpdname                          object\n",
      "mw                               float64\n",
      "mf                                object\n",
      "polararea                        float64\n",
      "complexity                       float64\n",
      "xlogp                            float64\n",
      "heavycnt                           int64\n",
      "hbonddonor                         int64\n",
      "hbondacc                           int64\n",
      "rotbonds                           int64\n",
      "inchi                             object\n",
      "isosmiles                         object\n",
      "canonicalsmiles                   object\n",
      "inchikey                          object\n",
      "iupacname                         object\n",
      "exactmass                        float64\n",
      "monoisotopicmass                 float64\n",
      "charge                             int64\n",
      "covalentunitcnt                    int64\n",
      "isotopeatomcnt                     int64\n",
      "totalatomstereocnt                 int64\n",
      "definedatomstereocnt               int64\n",
      "undefinedatomstereocnt             int64\n",
      "totalbondstereocnt                 int64\n",
      "definedbondstereocnt               int64\n",
      "undefinedbondstereocnt             int64\n",
      "pclidcnt                           int64\n",
      "gpidcnt                            int64\n",
      "gpfamilycnt                        int64\n",
      "annothitcnt                        int64\n",
      "aids                              object\n",
      "cidcdate                           int64\n",
      "PUBCHEM_EXT_DATASOURCE_SMILES     object\n",
      "PUBCHEM_ACTIVITY_OUTCOME          object\n",
      "dtype: object\n"
     ]
    }
   ],
   "source": [
    "# Check the data types of columns in the merged DataFrame\n",
    "print(merged_df.dtypes)"
   ]
  },
  {
   "cell_type": "code",
   "execution_count": 20,
   "metadata": {
    "colab": {
     "base_uri": "https://localhost:8080/"
    },
    "executionInfo": {
     "elapsed": 522,
     "status": "ok",
     "timestamp": 1710100055220,
     "user": {
      "displayName": "Palesa Tjale",
      "userId": "03417757512324219792"
     },
     "user_tz": -120
    },
    "id": "Owq8ERfzteXL",
    "outputId": "493424ea-5758-4f48-855b-a62f1b95e987"
   },
   "outputs": [
    {
     "name": "stdout",
     "output_type": "stream",
     "text": [
      "Column: cmpdname\n",
      "Number of unique values: 4301\n",
      "Unique values:\n",
      "Tolrestat                                                               380\n",
      "Sorbinil                                                                338\n",
      "Epalrestat                                                              262\n",
      "Zopolrestat                                                             128\n",
      "Trolox                                                                  122\n",
      "                                                                       ... \n",
      "3-phenylspiro[1H-quinazoline-4,5'-imidazolidine]-2,2',4'-trione           2\n",
      "2-amino-3'-methylspiro[1,3-thiazole-5,4'-1H-quinazoline]-2',4-dione       2\n",
      "(4S)-3-methylspiro[1H-quinazoline-4,5'-imidazolidine]-2,2',4'-trione      2\n",
      "2-amino-3'-methylspiro[1H-imidazole-4,4'-1H-quinazoline]-2',5-dione       2\n",
      "Diclofenac sodium                                                         2\n",
      "Name: cmpdname, Length: 4301, dtype: int64\n",
      "\n",
      "\n",
      "Column: mf\n",
      "Number of unique values: 3117\n",
      "Unique values:\n",
      "C16H14F3NO3S      392\n",
      "C11H9FN2O3        360\n",
      "C15H13NO3S2       262\n",
      "C21H22N2O4S       170\n",
      "C20H18N2O5S       162\n",
      "                 ... \n",
      "C15H17FO4           2\n",
      "C13H16O5            2\n",
      "C13H16O6S           2\n",
      "C11H10N4O4          2\n",
      "C14H10Cl2NNaO2      2\n",
      "Name: mf, Length: 3117, dtype: int64\n",
      "\n",
      "\n",
      "Column: inchi\n",
      "Number of unique values: 4301\n",
      "Unique values:\n",
      "InChI=1S/C16H14F3NO3S/c1-20(8-13(21)22)15(24)11-5-3-4-10-9(11)6-7-12(23-2)14(10)16(17,18)19/h3-7H,8H2,1-2H3,(H,21,22)                      380\n",
      "InChI=1S/C11H9FN2O3/c12-6-1-2-8-7(5-6)11(3-4-17-8)9(15)13-10(16)14-11/h1-2,5H,3-4H2,(H2,13,14,15,16)/t11-/m0/s1                            338\n",
      "InChI=1S/C15H13NO3S2/c1-10(7-11-5-3-2-4-6-11)8-12-14(19)16(9-13(17)18)15(20)21-12/h2-8H,9H2,1H3,(H,17,18)/b10-7+,12-8-                     262\n",
      "InChI=1S/C19H12F3N3O3S/c20-19(21,22)10-5-6-15-14(7-10)23-16(29-15)9-25-18(28)12-4-2-1-3-11(12)13(24-25)8-17(26)27/h1-7H,8-9H2,(H,26,27)    128\n",
      "InChI=1S/C14H18O4/c1-7-8(2)12-10(9(3)11(7)15)5-6-14(4,18-12)13(16)17/h15H,5-6H2,1-4H3,(H,16,17)                                            122\n",
      "                                                                                                                                          ... \n",
      "InChI=1S/C16H12N4O3/c21-13-16(19-14(22)18-13)11-8-4-5-9-12(11)17-15(23)20(16)10-6-2-1-3-7-10/h1-9H,(H,17,23)(H2,18,19,21,22)                 2\n",
      "InChI=1S/C11H10N4O2S/c1-15-10(17)13-7-5-3-2-4-6(7)11(15)8(16)14-9(12)18-11/h2-5H,1H3,(H,13,17)(H2,12,14,16)                                  2\n",
      "InChI=1S/C11H10N4O3/c1-15-10(18)12-7-5-3-2-4-6(7)11(15)8(16)13-9(17)14-11/h2-5H,1H3,(H,12,18)(H2,13,14,16,17)/t11-/m0/s1                     2\n",
      "InChI=1S/C11H11N5O2/c1-16-10(18)13-7-5-3-2-4-6(7)11(16)8(17)14-9(12)15-11/h2-5H,1H3,(H,13,18)(H3,12,14,15,17)                                2\n",
      "InChI=1S/C14H11Cl2NO2.Na/c15-10-5-3-6-11(16)14(10)17-12-7-2-1-4-9(12)8-13(18)19;/h1-7,17H,8H2,(H,18,19);/q;+1/p-1                            2\n",
      "Name: inchi, Length: 4301, dtype: int64\n",
      "\n",
      "\n",
      "Column: isosmiles\n",
      "Number of unique values: 4301\n",
      "Unique values:\n",
      "CN(CC(=O)O)C(=S)C1=CC=CC2=C1C=CC(=C2C(F)(F)F)OC                    380\n",
      "C1COC2=C([C@]13C(=O)NC(=O)N3)C=C(C=C2)F                            338\n",
      "C/C(=C\\C1=CC=CC=C1)/C=C\\2/C(=O)N(C(=S)S2)CC(=O)O                   262\n",
      "C1=CC=C2C(=C1)C(=NN(C2=O)CC3=NC4=C(S3)C=CC(=C4)C(F)(F)F)CC(=O)O    128\n",
      "CC1=C(C2=C(CCC(O2)(C)C(=O)O)C(=C1O)C)C                             122\n",
      "                                                                  ... \n",
      "C1=CC=C(C=C1)N2C(=O)NC3=CC=CC=C3C24C(=O)NC(=O)N4                     2\n",
      "CN1C(=O)NC2=CC=CC=C2C13C(=O)N=C(S3)N                                 2\n",
      "CN1C(=O)NC2=CC=CC=C2[C@@]13C(=O)NC(=O)N3                             2\n",
      "CN1C(=O)NC2=CC=CC=C2C13C(=O)NC(=N3)N                                 2\n",
      "C1=CC=C(C(=C1)CC(=O)[O-])NC2=C(C=CC=C2Cl)Cl.[Na+]                    2\n",
      "Name: isosmiles, Length: 4301, dtype: int64\n",
      "\n",
      "\n",
      "Column: canonicalsmiles\n",
      "Number of unique values: 4216\n",
      "Unique values:\n",
      "CN(CC(=O)O)C(=S)C1=CC=CC2=C1C=CC(=C2C(F)(F)F)OC                    380\n",
      "C1COC2=C(C13C(=O)NC(=O)N3)C=C(C=C2)F                               354\n",
      "CC(=CC1=CC=CC=C1)C=C2C(=O)N(C(=S)S2)CC(=O)O                        262\n",
      "C1=CC=C2C(=C1)C(=NN(C2=O)CC3=NC4=C(S3)C=CC(=C4)C(F)(F)F)CC(=O)O    128\n",
      "CC1=C(C2=C(CCC(O2)(C)C(=O)O)C(=C1O)C)C                             122\n",
      "                                                                  ... \n",
      "CC1CC(C2=C(O1)C=CC(=C2Br)F)(CC(=O)O)O                                2\n",
      "CC1CC(C2=C(O1)C=CC(=C2)OC)(CC(=O)O)O                                 2\n",
      "C1CCC2C(C1)C(C3=C(O2)C=CC(=C3)F)(CC(=O)O)O                           2\n",
      "COC1=C(C=C(C=C1)C2=CC(=O)C3=C(C(=C(C(=C3O2)OC)O)OC)O)OC              2\n",
      "C1=CC=C(C(=C1)CC(=O)[O-])NC2=C(C=CC=C2Cl)Cl.[Na+]                    2\n",
      "Name: canonicalsmiles, Length: 4216, dtype: int64\n",
      "\n",
      "\n",
      "Column: inchikey\n",
      "Number of unique values: 4301\n",
      "Unique values:\n",
      "LUBHDINQXIHVLS-UHFFFAOYSA-N    380\n",
      "LXANPKRCLVQAOG-NSHDSACASA-N    338\n",
      "CHNUOJQWGUIOLD-NFZZJPOKSA-N    262\n",
      "BCSVCWVQNOXFGL-UHFFFAOYSA-N    128\n",
      "GLEVLJDDWXEYCO-UHFFFAOYSA-N    122\n",
      "                              ... \n",
      "LWTDATMDSQXMPP-UHFFFAOYSA-N      2\n",
      "KVMYTKFZCUSUQP-UHFFFAOYSA-N      2\n",
      "WTRHXNHBRZONAP-NSHDSACASA-N      2\n",
      "LKJABOURHOWWKL-UHFFFAOYSA-N      2\n",
      "KPHWPUGNDIVLNH-UHFFFAOYSA-M      2\n",
      "Name: inchikey, Length: 4301, dtype: int64\n",
      "\n",
      "\n",
      "Column: iupacname\n",
      "Number of unique values: 4301\n",
      "Unique values:\n",
      "2-[[6-methoxy-5-(trifluoromethyl)naphthalene-1-carbothioyl]-methylamino]acetic acid                         380\n",
      "(4S)-6-fluorospiro[2,3-dihydrochromene-4,5'-imidazolidine]-2',4'-dione                                      338\n",
      "2-[(5Z)-5-[(E)-2-methyl-3-phenylprop-2-enylidene]-4-oxo-2-sulfanylidene-1,3-thiazolidin-3-yl]acetic acid    262\n",
      "2-[4-oxo-3-[[5-(trifluoromethyl)-1,3-benzothiazol-2-yl]methyl]phthalazin-1-yl]acetic acid                   128\n",
      "6-hydroxy-2,5,7,8-tetramethyl-3,4-dihydrochromene-2-carboxylic acid                                         122\n",
      "                                                                                                           ... \n",
      "3-phenylspiro[1H-quinazoline-4,5'-imidazolidine]-2,2',4'-trione                                               2\n",
      "2-amino-3'-methylspiro[1,3-thiazole-5,4'-1H-quinazoline]-2',4-dione                                           2\n",
      "(4S)-3-methylspiro[1H-quinazoline-4,5'-imidazolidine]-2,2',4'-trione                                          2\n",
      "2-amino-3'-methylspiro[1H-imidazole-4,4'-1H-quinazoline]-2',5-dione                                           2\n",
      "sodium;2-[2-(2,6-dichloroanilino)phenyl]acetate                                                               2\n",
      "Name: iupacname, Length: 4301, dtype: int64\n",
      "\n",
      "\n",
      "Column: aids\n",
      "Number of unique values: 2391\n",
      "Unique values:\n",
      "34179|34196|34199|34201|34205|34213|34325|34326|34339|34351|34354|34355|34356|34357|34358|34475|34476|34505|34627|34637|34668|34669|34780|34804|34812|34964|34969|34975|35130|35131|35134|75435|75439|91121|93598|95257|173583|173585|176717|176718|176719|176721|176722|176723|176748|177265|179963|179964|179965|181257|181258|181259|181882|182214|182398|182415|182566|182579|182584|182590|182937|182938|182939|183235|184011|184013|184336|184361|185256|185258|187317|187318|187319|187320|187321|187322|187323|187324|187325|187326|187327|187328|187329|188540|188552|189576|189577|189578|189579|189580|189581|189582|189583|189584|189585|189586|189587|189588|189589|189590|189591|189592|189593|189594|189595|189596|189597|189598|189599|189600|189601|189602|189603|189604|189605|189606|203732|203733|225460|230202|230203|230204|230205|232928|232953|241043|242605|242668|252115|252120|318821|318822|318837|322409|322413|367703|367704|367705|367707|367708|408380|408381|408626|408627|408628|408629|408630|408631|408632|408633|408634|408635|408636|468476|468480|468481|468482|468483|468484|468485|468486|468487|468488|468489|468490|468491|468492|468493|468494|468495|468496|468497|468498|468499|489631|489638|489639|489640|489641|489642|567091|588210|602332|624030|624170|624172|624173|625276|625293|697008|697009|697024|1079931|1079932|1079933|1079934|1079935|1079936|1079937|1079938|1079939|1079940|1079941|1079942|1079943|1079944|1079945|1079946|1079947|1079948|1079949|1259400|1346211|1347060|1347064|1347065|1347067|1347068|1409598|1449628|1465691|1465692|1474166|1474167|1478797|1478798|1640020|1645758|1797506|1802103|1802104                                                                                                                                                                                                                                                                                                                                                                                                                                                                                                                                                                                                                                                                                                                                                                                                                                                                                                                                                                                                                                                                                                                                                                                                                                                                                                                                                                                                                                                                                                                                                                                                                                                                                                                                                                                                                                                                                                                                                                                                                                                                                                                                                                                                                                                                                                                                                                                                                                                                                                                                                                                                                                                                                                                                                                                                                                                                                                                                                                                                                                                                                                                                                                                                                                                                                                                                                                                                                                                                                                                                                                                                                                                                                                                                                                                                                                                                                                                                                                                                                                                                                                                                                                                                                                                                                                                                                                                                                                                                                                                                                                                                                                                                                                                                                                                                                                                                                                                                                                                                                                                                                                                                                                                                                                                                                                                                                                                                                                                                                                                                                                                                                                                                                                                                                                                                                                                                                                                                                                                                                                                                                                                                                                                                                                                                                                                                                                                                                                                                                                                                                                                                                                                                                                                                                                                                                                                                                                                                                                                                                                                                                                                                                                                                                                                                                                                                                                                                                                                                                                                                                                                                                                                                                                                                                                                                                                                                                                                                                                                                                                                                                                                                                                                                                                                                                                                                                                                                                                                                                                                                                                                                                                                                                                                                 380\n",
      "179|330|880|881|894|1030|1195|1379|1452|1457|1460|1463|1467|1468|1469|1471|1476|1477|1478|1479|1490|1688|1766|1768|1865|1948|2101|2107|2112|2314|2315|2451|2472|2517|2528|2546|2549|2551|2662|26074|26108|29166|34177|34178|34196|34198|34201|34210|34211|34351|34354|34355|34475|34476|34505|34506|34634|34637|34638|34641|34646|34648|34650|34653|34654|34655|34661|34662|34664|34782|34783|34786|34788|34789|34795|34798|34799|34803|34804|34805|34814|34962|34964|34965|34969|34970|34973|34974|34975|34985|35109|35113|35115|35127|35132|35133|35134|35135|35136|75435|75439|93598|95257|107292|159818|159820|170137|170935|176729|177265|177556|178209|178946|179748|179749|181496|181877|182013|182014|182073|182251|182408|182432|182579|182586|182593|184011|184013|184331|184354|184947|184950|184953|184954|184958|184961|184963|184964|194289|194291|203729|203732|220720|230202|230203|230204|230205|232928|232953|233810|241043|241371|241413|242590|242609|254230|255041|256543|299415|309933|322411|322413|379162|381848|408834|408837|462440|462442|468476|477037|485281|485290|488380|489631|489638|489639|489640|489641|489642|492961|504327|504332|504749|504832|504834|504847|504865|537152|537153|549694|588579|588834|602332|603256|624030|624031|624032|624044|624170|624172|624173|624296|624297|651631|651632|651633|651634|651635|651828|652048|652051|686978|686979|720516|720532|720533|720552|720634|720635|720637|720674|720675|720678|720679|720680|720681|720682|720683|720684|720685|720686|720687|720691|720692|720693|720719|720725|720961|743012|743014|743015|743033|743035|743036|743040|743041|743042|743053|743054|743063|743064|743065|743066|743067|743069|743074|743075|743077|743078|743079|743080|743081|743083|743084|743085|743086|743091|743094|743122|743139|743140|743191|743194|743199|743202|743203|743209|743210|743211|743212|743213|743215|743217|743218|743219|743220|743221|743222|743223|743224|743225|743226|743227|743228|743239|743240|743241|743242|743244|765046|1066260|1117298|1117304|1117305|1117310|1117312|1117314|1117326|1117329|1117336|1117340|1117341|1117342|1117343|1117346|1120999|1124833|1142509|1143289|1143291|1159509|1159515|1159516|1159517|1159518|1159519|1159520|1159521|1159523|1159525|1159526|1159527|1159528|1159529|1159531|1159551|1159552|1159553|1159555|1159614|1204830|1224818|1224819|1224820|1224821|1224822|1224823|1224834|1224835|1224836|1224837|1224838|1224839|1224840|1224841|1224842|1224843|1224844|1224845|1224846|1224847|1224848|1224849|1224857|1224859|1224867|1224868|1224869|1224870|1224871|1224872|1224873|1224874|1224875|1224876|1224877|1224878|1224879|1224880|1224881|1224882|1224883|1224884|1224885|1224886|1224887|1224888|1224889|1224890|1224892|1224893|1224894|1224895|1224896|1224905|1259241|1259242|1259243|1259244|1259247|1259248|1259344|1259355|1259356|1259364|1259365|1259366|1259367|1259368|1259369|1259370|1259377|1259378|1259379|1259380|1259381|1259382|1259383|1259384|1259385|1259386|1259387|1259388|1259390|1259391|1259392|1259393|1259394|1259395|1259396|1259400|1259401|1259402|1259403|1259404|1296008|1296009|1315345|1315347|1315351|1335654|1335662|1345084|1345199|1346211|1346378|1346428|1346784|1346795|1346798|1346799|1346824|1346829|1346859|1346877|1346891|1346924|1346977|1346978|1346979|1346980|1346981|1346982|1346983|1346984|1346985|1346986|1346987|1347030|1347031|1347032|1347033|1347034|1347035|1347036|1347037|1347038|1347053|1347055|1347057|1347058|1347059|1347074|1347080|1347082|1347083|1347085|1347086|1347089|1347090|1347091|1347092|1347093|1347094|1347095|1347096|1347097|1347098|1347099|1347100|1347101|1347102|1347103|1347104|1347105|1347106|1347107|1347108|1347143|1347151|1347154|1347384|1347395|1347397|1347398|1347399|1347405|1347407|1347410|1347424|1347425|1409598|1443999|1478797|1478798|1508616|1508618|1508620|1508623|1508624|1508630|1589440|1589441|1589442|1589443|1589444|1640020|1645758|1645839|1645840|1645841|1645842|1645843|1645851|1645870|1645873|1645876|1645877|1645882|1645883|1645886|1645887|1646335|1646336|1671188|1671190|1671193|1671194|1671196|1671197|1671198|1671199|1671200|1671201|1700253|1713572|1745845|1745853|1745856|1745857|1794731|1794732|1794733|1794735|1794736|1794738|1794740|1794742|1794745|1794746|1794748|1794750|1794751|1794752|1794754|1794755|1794756|1794757|1794758|1794759|1794760|1794761|1794763|1794766|1794767|1794768|1794769|1794771|1794772|1794773|1794774|1794775|1794776|1794777|1794779|1794780|1794781|1794782|1794783|1794784|1794785|1794786|1794787|1794788|1794789|1794790|1794792|1794793|1794794|1794795|1794796|1794798|1794799|1794800|1794808|1797505|1802103|1918969|1919968|1919969|1919970                                                                                                                                                                                                                                                                                                                                                                                                                                                                                                                                                                                                                                                                                                                                                                                                                                                                                                                                                                                                                                                                                                                                                                                                                                                                                                                                                                                                                                                                                                                                                                                                                                                                                                                                                                                                                                                                                                                                                                                                                                                                                                                                                                                                                                                                                                                                                                                                                                                                                                                                                                                                                                                                                                                                                                                                                                                                                                                                                                                                                                                                                                                                                                                                                                                                                                                                                                                                                                                                                                                                                                                                                                                                                                                                                                                                                                                                                                                                                                                                                                                                                                                                                                                                                                                                                                                                                                                                                                                                                                                                                                                                                                                                                                                                                                                                                                                                                                                                                                                                                                                                                                                                                                                                                                                                                                                                                                                                                                                                                                                                                                                                                            338\n",
      "1589432|1589433|1589434|1589435|1589440|1589441|1589442|1589443|1589445|1589446|1589447|1589448|1589449|1589450|1589451|1589452|1589453|1589454|1589455|1589456|1589457|1589458|1589459|1589463|1589464|1589465|1589466|1589467|1589468|1589469|1589477                                                                                                                                                                                                                                                                                                                                                                                                                                                                                                                                                                                                                                                                                                                                                                                                                                                                                                                                                                                                                                                                                                                                                                                                                                                                                                                                                                                                                                                                                                                                                                                                                                                                                                                                                                                                                                                                                                                                                                                                                                                                                                                                                                                                                                                                                                                                                                                                                                                                                                                                                                                                                                                                                                                                                                                                                                                                                                                                                                                                                                                                                                                                                                                                                                                                                                                                                                                                                                                                                                                                                                                                                                                                                                                                                                                                                                                                                                                                                                                                                                                                                                                                                                                                                                                                                                                                                                                                                                                                                                                                                                                                                                                                                                                                                                                                                                                                                                                                                                                                                                                                                                                                                                                                                                                                                                                                                                                                                                                                                                                                                                                                                                                                                                                                                                                                                                                                                                                                                                                                                                                                                                                                                                                                                                                                                                                                                                                                                                                                                                                                                                                                                                                                                                                                                                                                                                                                                                                                                                                                                                                                                                                                                                                                                                                                                                                                                                                                                                                                                                                                                                                                                                                                                                                                                                                                                                                                                                                                                                                                                                                                                                                                                                                                                                                                                                                                                                                                                                                                                                                                                                                                                                                                                                                                                                                                                                                                                                                                                                                                                                                                                                                                                                                                                                                                                                                                                                                                                                                                                                                                                                                                                                                                                                                                                                                                                                                                                                                                                                                                                                                                                                                                                             328\n",
      "242605|242668|1797506                                                                                                                                                                                                                                                                                                                                                                                                                                                                                                                                                                                                                                                                                                                                                                                                                                                                                                                                                                                                                                                                                                                                                                                                                                                                                                                                                                                                                                                                                                                                                                                                                                                                                                                                                                                                                                                                                                                                                                                                                                                                                                                                                                                                                                                                                                                                                                                                                                                                                                                                                                                                                                                                                                                                                                                                                                                                                                                                                                                                                                                                                                                                                                                                                                                                                                                                                                                                                                                                                                                                                                                                                                                                                                                                                                                                                                                                                                                                                                                                                                                                                                                                                                                                                                                                                                                                                                                                                                                                                                                                                                                                                                                                                                                                                                                                                                                                                                                                                                                                                                                                                                                                                                                                                                                                                                                                                                                                                                                                                                                                                                                                                                                                                                                                                                                                                                                                                                                                                                                                                                                                                                                                                                                                                                                                                                                                                                                                                                                                                                                                                                                                                                                                                                                                                                                                                                                                                                                                                                                                                                                                                                                                                                                                                                                                                                                                                                                                                                                                                                                                                                                                                                                                                                                                                                                                                                                                                                                                                                                                                                                                                                                                                                                                                                                                                                                                                                                                                                                                                                                                                                                                                                                                                                                                                                                                                                                                                                                                                                                                                                                                                                                                                                                                                                                                                                                                                                                                                                                                                                                                                                                                                                                                                                                                                                                                                                                                                                                                                                                                                                                                                                                                                                                                                                                                                                                                                                                               288\n",
      "1318716|1318717|1318718|1318719|1318720                                                                                                                                                                                                                                                                                                                                                                                                                                                                                                                                                                                                                                                                                                                                                                                                                                                                                                                                                                                                                                                                                                                                                                                                                                                                                                                                                                                                                                                                                                                                                                                                                                                                                                                                                                                                                                                                                                                                                                                                                                                                                                                                                                                                                                                                                                                                                                                                                                                                                                                                                                                                                                                                                                                                                                                                                                                                                                                                                                                                                                                                                                                                                                                                                                                                                                                                                                                                                                                                                                                                                                                                                                                                                                                                                                                                                                                                                                                                                                                                                                                                                                                                                                                                                                                                                                                                                                                                                                                                                                                                                                                                                                                                                                                                                                                                                                                                                                                                                                                                                                                                                                                                                                                                                                                                                                                                                                                                                                                                                                                                                                                                                                                                                                                                                                                                                                                                                                                                                                                                                                                                                                                                                                                                                                                                                                                                                                                                                                                                                                                                                                                                                                                                                                                                                                                                                                                                                                                                                                                                                                                                                                                                                                                                                                                                                                                                                                                                                                                                                                                                                                                                                                                                                                                                                                                                                                                                                                                                                                                                                                                                                                                                                                                                                                                                                                                                                                                                                                                                                                                                                                                                                                                                                                                                                                                                                                                                                                                                                                                                                                                                                                                                                                                                                                                                                                                                                                                                                                                                                                                                                                                                                                                                                                                                                                                                                                                                                                                                                                                                                                                                                                                                                                                                                                                                                                                                                                             280\n",
      "                                                                                                                                                                                                                                                                                                                                                                                                                                                                                                                                                                                                                                                                                                                                                                                                                                                                                                                                                                                                                                                                                                                                                                                                                                                                                                                                                                                                                                                                                                                                                                                                                                                                                                                                                                                                                                                                                                                                                                                                                                                                                                                                                                                                                                                                                                                                                                                                                                                                                                                                                                                                                                                                                                                                                                                                                                                                                                                                                                                                                                                                                                                                                                                                                                                                                                                                                                                                                                                                                                                                                                                                                                                                                                                                                                                                                                                                                                                                                                                                                                                                                                                                                                                                                                                                                                                                                                                                                                                                                                                                                                                                                                                                                                                                                                                                                                                                                                                                                                                                                                                                                                                                                                                                                                                                                                                                                                                                                                                                                                                                                                                                                                                                                                                                                                                                                                                                                                                                                                                                                                                                                                                                                                                                                                                                                                                                                                                                                                                                                                                                                                                                                                                                                                                                                                                                                                                                                                                                                                                                                                                                                                                                                                                                                                                                                                                                                                                                                                                                                                                                                                                                                                                                                                                                                                                                                                                                                                                                                                                                                                                                                                                                                                                                                                                                                                                                                                                                                                                                                                                                                                                                                                                                                                                                                                                                                                                                                                                                                                                                                                                                                                                                                                                                                                                                                                                                                                                                                                                                                                                                                                                                                                                                                                                                                                                                                                                                                                                                                                                                                                                                                                                                                                                                                                                                                                                                                                                                                   ... \n",
      "661075|1115482|1408545|1799680|1799681                                                                                                                                                                                                                                                                                                                                                                                                                                                                                                                                                                                                                                                                                                                                                                                                                                                                                                                                                                                                                                                                                                                                                                                                                                                                                                                                                                                                                                                                                                                                                                                                                                                                                                                                                                                                                                                                                                                                                                                                                                                                                                                                                                                                                                                                                                                                                                                                                                                                                                                                                                                                                                                                                                                                                                                                                                                                                                                                                                                                                                                                                                                                                                                                                                                                                                                                                                                                                                                                                                                                                                                                                                                                                                                                                                                                                                                                                                                                                                                                                                                                                                                                                                                                                                                                                                                                                                                                                                                                                                                                                                                                                                                                                                                                                                                                                                                                                                                                                                                                                                                                                                                                                                                                                                                                                                                                                                                                                                                                                                                                                                                                                                                                                                                                                                                                                                                                                                                                                                                                                                                                                                                                                                                                                                                                                                                                                                                                                                                                                                                                                                                                                                                                                                                                                                                                                                                                                                                                                                                                                                                                                                                                                                                                                                                                                                                                                                                                                                                                                                                                                                                                                                                                                                                                                                                                                                                                                                                                                                                                                                                                                                                                                                                                                                                                                                                                                                                                                                                                                                                                                                                                                                                                                                                                                                                                                                                                                                                                                                                                                                                                                                                                                                                                                                                                                                                                                                                                                                                                                                                                                                                                                                                                                                                                                                                                                                                                                                                                                                                                                                                                                                                                                                                                                                                                                                                                                                                2\n",
      "144377|308045|308046|470661|470662|470663|470664|470665|470666|1115482|1164738|1164739|1259407|1311692|1311693|1461517|1461519|1461520|1461522|1461523|1461524|1461525|1461526|1461527|1461528|1461529|1461530|1461531|1461532|1803028                                                                                                                                                                                                                                                                                                                                                                                                                                                                                                                                                                                                                                                                                                                                                                                                                                                                                                                                                                                                                                                                                                                                                                                                                                                                                                                                                                                                                                                                                                                                                                                                                                                                                                                                                                                                                                                                                                                                                                                                                                                                                                                                                                                                                                                                                                                                                                                                                                                                                                                                                                                                                                                                                                                                                                                                                                                                                                                                                                                                                                                                                                                                                                                                                                                                                                                                                                                                                                                                                                                                                                                                                                                                                                                                                                                                                                                                                                                                                                                                                                                                                                                                                                                                                                                                                                                                                                                                                                                                                                                                                                                                                                                                                                                                                                                                                                                                                                                                                                                                                                                                                                                                                                                                                                                                                                                                                                                                                                                                                                                                                                                                                                                                                                                                                                                                                                                                                                                                                                                                                                                                                                                                                                                                                                                                                                                                                                                                                                                                                                                                                                                                                                                                                                                                                                                                                                                                                                                                                                                                                                                                                                                                                                                                                                                                                                                                                                                                                                                                                                                                                                                                                                                                                                                                                                                                                                                                                                                                                                                                                                                                                                                                                                                                                                                                                                                                                                                                                                                                                                                                                                                                                                                                                                                                                                                                                                                                                                                                                                                                                                                                                                                                                                                                                                                                                                                                                                                                                                                                                                                                                                                                                                                                                                                                                                                                                                                                                                                                                                                                                                                                                                                                                                                2\n",
      "2240|2241|2275|2313|2316|2330|34499|434959|485350|492967|493033|493162|504770|540299|588519|602314|624156|720641|1159607|1224905|1671202|1794808|1918969                                                                                                                                                                                                                                                                                                                                                                                                                                                                                                                                                                                                                                                                                                                                                                                                                                                                                                                                                                                                                                                                                                                                                                                                                                                                                                                                                                                                                                                                                                                                                                                                                                                                                                                                                                                                                                                                                                                                                                                                                                                                                                                                                                                                                                                                                                                                                                                                                                                                                                                                                                                                                                                                                                                                                                                                                                                                                                                                                                                                                                                                                                                                                                                                                                                                                                                                                                                                                                                                                                                                                                                                                                                                                                                                                                                                                                                                                                                                                                                                                                                                                                                                                                                                                                                                                                                                                                                                                                                                                                                                                                                                                                                                                                                                                                                                                                                                                                                                                                                                                                                                                                                                                                                                                                                                                                                                                                                                                                                                                                                                                                                                                                                                                                                                                                                                                                                                                                                                                                                                                                                                                                                                                                                                                                                                                                                                                                                                                                                                                                                                                                                                                                                                                                                                                                                                                                                                                                                                                                                                                                                                                                                                                                                                                                                                                                                                                                                                                                                                                                                                                                                                                                                                                                                                                                                                                                                                                                                                                                                                                                                                                                                                                                                                                                                                                                                                                                                                                                                                                                                                                                                                                                                                                                                                                                                                                                                                                                                                                                                                                                                                                                                                                                                                                                                                                                                                                                                                                                                                                                                                                                                                                                                                                                                                                                                                                                                                                                                                                                                                                                                                                                                                                                                                                                                              2\n",
      "34499|1671202|1794808                                                                                                                                                                                                                                                                                                                                                                                                                                                                                                                                                                                                                                                                                                                                                                                                                                                                                                                                                                                                                                                                                                                                                                                                                                                                                                                                                                                                                                                                                                                                                                                                                                                                                                                                                                                                                                                                                                                                                                                                                                                                                                                                                                                                                                                                                                                                                                                                                                                                                                                                                                                                                                                                                                                                                                                                                                                                                                                                                                                                                                                                                                                                                                                                                                                                                                                                                                                                                                                                                                                                                                                                                                                                                                                                                                                                                                                                                                                                                                                                                                                                                                                                                                                                                                                                                                                                                                                                                                                                                                                                                                                                                                                                                                                                                                                                                                                                                                                                                                                                                                                                                                                                                                                                                                                                                                                                                                                                                                                                                                                                                                                                                                                                                                                                                                                                                                                                                                                                                                                                                                                                                                                                                                                                                                                                                                                                                                                                                                                                                                                                                                                                                                                                                                                                                                                                                                                                                                                                                                                                                                                                                                                                                                                                                                                                                                                                                                                                                                                                                                                                                                                                                                                                                                                                                                                                                                                                                                                                                                                                                                                                                                                                                                                                                                                                                                                                                                                                                                                                                                                                                                                                                                                                                                                                                                                                                                                                                                                                                                                                                                                                                                                                                                                                                                                                                                                                                                                                                                                                                                                                                                                                                                                                                                                                                                                                                                                                                                                                                                                                                                                                                                                                                                                                                                                                                                                                                                                                 2\n",
      "357|361|364|368|371|373|374|375|410|411|422|425|429|430|431|432|436|438|440|441|444|445|446|447|448|449|450|451|453|454|455|456|457|460|483|485|487|488|501|518|521|522|524|525|526|527|528|529|530|538|539|547|552|555|556|559|560|561|565|567|568|570|571|572|573|574|575|576|577|580|581|583|584|585|587|588|589|590|591|592|593|594|595|596|597|598|601|602|603|604|605|606|607|609|614|615|618|620|622|623|624|625|626|628|629|630|631|633|636|637|639|641|645|648|662|680|684|686|687|694|701|708|709|719|731|732|741|746|750|751|757|758|759|760|761|764|770|771|772|774|775|781|782|793|795|797|798|799|800|803|804|813|817|818|827|828|834|841|847|861|862|868|871|873|875|878|879|880|881|883|884|885|886|887|889|891|892|893|894|895|898|899|900|901|902|910|912|914|915|917|918|920|923|924|925|926|927|928|930|932|938|940|943|944|945|950|951|952|954|957|958|959|992|995|997|998|1001|1006|1007|1008|1009|1012|1016|1018|1019|1020|1021|1022|1027|1030|1032|1040|1046|1048|1049|1051|1063|1066|1085|1135|1136|1203|1209|1214|1216|1217|1220|1222|1229|1235|1236|1239|1242|1251|1273|1274|1276|1285|1296|1304|1321|1325|1326|1359|1362|1376|1377|1379|1381|1385|1415|1416|1422|1423|1424|1430|1434|1439|1440|1441|1443|1445|1446|1448|1452|1454|1456|1457|1458|1459|1460|1461|1463|1465|1466|1467|1468|1469|1471|1476|1477|1478|1479|1481|1486|1487|1490|1496|1509|1510|1511|1515|1519|1527|1529|1530|1531|1532|1554|1556|1565|1566|1578|1580|1581|1582|1583|1584|1585|1586|1587|1588|1589|1590|1593|1594|1595|1596|1597|1598|1599|1600|1601|1602|1603|1604|1605|1606|1607|1608|1609|1610|1612|1613|1614|1616|1619|1621|1626|1631|1634|1654|1656|1662|1663|1665|1672|1688|1700|1705|1706|1707|1708|1721|1722|1766|1768|1775|1776|1777|1778|1779|1789|1800|1813|1814|1815|1816|1817|1822|1825|1828|1832|1845|1850|1851|1861|1862|1863|1865|1867|1868|1870|1873|1875|1876|1877|1882|1883|1885|1886|1887|1899|1903|1906|1910|1947|1948|1950|1956|1961|1962|1967|1974|1984|1986|1987|2006|2012|2013|2014|2016|2023|2025|2029|2052|2057|2058|2066|2071|2073|2094|2097|2098|2099|2100|2101|2107|2112|2129|2130|2147|2156|2174|2177|2205|2216|2221|2227|2234|2235|2237|2239|2242|2247|2280|2288|2289|2300|2314|2315|2323|2326|2353|2364|2380|2391|2417|2435|2445|2451|2462|2472|2517|2520|2521|2523|2524|2528|2540|2544|2546|2549|2550|2551|2553|2557|2563|2599|2606|2629|2642|2648|2650|2660|2661|2662|2666|2667|2668|2674|2675|2676|2685|2690|2706|2716|2717|2718|2732|2751|2774|2796|2797|2805|2806|2825|20345|23265|25584|25726|28640|112732|118143|128492|160713|169240|171176|171196|173359|173360|173361|184535|190507|193609|194137|237685|245703|251629|257049|270013|270014|270015|270016|270017|270018|270020|280212|280213|280219|280220|289578|293130|293132|294731|294732|294733|324003|324004|324005|324006|324007|324008|324009|333734|346289|346291|346293|346295|346297|346299|346301|346302|346313|346314|346315|371926|371927|371928|371929|371930|371931|371932|371933|371934|371935|371936|371937|371938|371939|371940|371941|371942|408486|416933|416934|416935|417459|417460|417461|417462|417463|417464|417465|417466|417467|417468|434955|434962|434973|434989|435003|435005|435022|435030|436657|436658|436659|436660|449728|449739|449762|449763|449768|463073|463075|463079|463082|463096|463097|463104|463106|463111|463115|463141|463165|463187|463189|463190|463193|463195|463210|463212|463254|468462|477048|477049|477050|477053|477054|477058|477059|477060|477061|478503|478504|478505|478506|478507|478508|478509|478510|478511|478512|483271|483272|483273|483274|485270|485272|485273|485275|485281|485290|485294|485295|485297|485298|485313|485314|485317|485341|485342|485345|485346|485347|485349|485350|485353|485360|485364|485366|485367|485368|488745|488752|488772|488773|488806|488816|488837|488839|488847|488862|488890|488895|488896|488899|488922|488949|488953|488965|488966|488975|488977|488978|488979|488980|488981|488982|488983|489030|489031|491007|491008|491009|491108|491109|491110|491111|491112|491113|492947|492953|492956|492967|492972|493005|493008|493011|493012|493014|493027|493033|493035|493036|493056|493084|493087|493091|493098|493106|493107|493127|493131|493140|493153|493160|493162|493164|493187|493189|493221|493222|493244|504326|504327|504329|504332|504333|504339|504357|504364|504406|504408|504411|504414|504423|504441|504444|504454|504459|504462|504466|504467|504490|504523|504536|504541|504547|504548|504558|504577|504582|504594|504600|504621|504634|504648|504651|504652|504660|504690|504692|504700|504706|504707|504720|504734|504749|504766|504770|504775|504803|504810|504812|504821|504832|504834|504836|504842|504845|504847|504865|504884|504891|504894|504937|515193|515194|515195|515196|515197|521220|536430|536432|536434|536640|536641|536642|536643|536644|540253|540256|540263|540267|540275|540276|540277|540295|540299|540303|540308|540317|540336|540364|558029|558030|558031|558036|558037|574422|574423|574424|588334|588335|588342|588349|588352|588354|588358|588368|588378|588391|588405|588413|588436|588453|588456|588458|588459|588460|588461|588473|588475|588478|588489|588492|588493|588497|588499|588501|588506|588511|588519|588549|588550|588579|588590|588591|588621|588627|588664|588674|588675|588676|588685|588689|588692|588726|588727|588795|588814|588819|588834|588850|588852|588855|588856|591401|592577|592578|592579|592580|592581|592582|592583|592584|592585|592586|592587|592588|592589|592591|592593|592595|592597|598516|598518|598519|598520|598521|598524|602123|602141|602162|602163|602179|602229|602233|602244|602247|602248|602250|602252|602261|602274|602276|602277|602281|602310|602313|602314|602329|602332|602340|602342|602346|602363|602393|602396|602399|602405|602410|602429|602438|602440|602449|602481|615468|623870|623877|623901|624030|624031|624032|624037|624038|624040|624044|624125|624126|624127|624146|624147|624148|624149|624168|624169|624170|624171|624172|624173|624178|624202|624204|624246|624256|624263|624267|624268|624288|624296|624297|624304|624330|624349|624352|624354|624377|624414|624415|624416|624417|624418|624455|624463|624464|624465|624466|624467|624483|625308|625309|625311|625312|644994|644995|644996|648025|648026|651550|651560|651572|651582|651602|651610|651631|651632|651633|651634|651635|651636|651640|651644|651647|651654|651658|651660|651661|651687|651699|651702|651704|651710|651711|651718|651719|651723|651724|651725|651768|651800|651819|651820|651821|651828|651917|651930|651934|651957|651958|651965|651999|652010|652017|652025|652039|652048|652051|652054|652067|652104|652105|652106|652115|652126|652154|652162|652163|652189|652197|652231|652233|652236|652257|658647|658648|658649|658650|658652|658653|661536|661537|661538|661539|661540|664967|664968|664969|664970|664971|664972|664974|664977|675009|675010|675011|675012|675013|675014|675015|675016|686940|686964|686970|686971|686978|686979|686992|686996|687014|687016|687035|687037|693844|693845|693846|693847|720504|720508|720509|720511|720516|720532|720533|720538|720542|720543|720551|720552|720553|720554|720559|720572|720573|720579|720580|720582|720596|720634|720635|720637|720641|720647|720648|720674|720675|720678|720679|720680|720681|720682|720683|720684|720685|720686|720687|720691|720692|720693|720700|720702|720704|720707|720708|720709|720711|720717|720719|720725|729513|729514|729515|735607|735608|735609|735611|735612|735613|735614|735615|735616|735617|743012|743014|743015|743033|743035|743036|743040|743041|743042|743053|743054|743063|743064|743065|743066|743067|743069|743074|743075|743077|743078|743079|743080|743081|743083|743084|743085|743086|743091|743094|743122|743126|743139|743140|743191|743194|743199|743202|743203|743205|743206|743207|743209|743210|743211|743212|743213|743215|743217|743218|743219|743220|743221|743222|743223|743224|743225|743226|743227|743228|743238|743239|743240|743241|743242|743244|743247|743255|743266|743268|743269|743270|743271|743272|743279|743281|743397|743398|744750|744751|744752|744753|746386|746387|746388|746389|762702|769098|769099|769102|769103|769104|769106|771858|771859|771860|771861|977599|977602|1053175|1053188|1053196|1053197|1055525|1055526|1055527|1055528|1083354|1083356|1083357|1083359|1083360|1084246|1084247|1084248|1084249|1084251|1084252|1084253|1084254|1084991|1084992|1085113|1085114|1085115|1085139|1085140|1085141|1086418|1086957|1086958|1086959|1093432|1093435|1093437|1094346|1094347|1094348|1094349|1094350|1094351|1094352|1094353|1094354|1094355|1094356|1094357|1094358|1094359|1094360|1094361|1094362|1096078|1096079|1096080|1096081|1096082|1096083|1096084|1096085|1096086|1096323|1096324|1097313|1097314|1097315|1105935|1105936|1105937|1105938|1105939|1105940|1105941|1105942|1105943|1105944|1105945|1105946|1105947|1105948|1105949|1105950|1105951|1106900|1106901|1106902|1107133|1107134|1107173|1107174|1107175|1107176|1107234|1107255|1114682|1114683|1114684|1114685|1114686|1114752|1114753|1114754|1115280|1115285|1115303|1115304|1115305|1115306|1115548|1115549|1115550|1115551|1115552|1115553|1115554|1115555|1115903|1115904|1115905|1115906|1115907|1116316|1116319|1116321|1116463|1116467|1116471|1116475|1116479|1116483|1116487|1116491|1116495|1116499|1116529|1116533|1116537|1116541|1116545|1116762|1116763|1116764|1116765|1116766|1117298|1117304|1117305|1117310|1117312|1117314|1117319|1117326|1117329|1117336|1117340|1117341|1117342|1117343|1117346|1125011|1125012|1125013|1125014|1125019|1126559|1155773|1159509|1159515|1159516|1159517|1159518|1159519|1159520|1159521|1159523|1159524|1159525|1159526|1159527|1159528|1159529|1159531|1159550|1159551|1159552|1159553|1159555|1159580|1159583|1159606|1159607|1159614|1166514|1166515|1166516|1166517|1175391|1175392|1193492|1193493|1193494|1193495|1193496|1193497|1193498|1193499|1193500|1193882|1193883|1193884|1211803|1211821|1211841|1211860|1211871|1211879|1220783|1220784|1220785|1220786|1220787|1220788|1220789|1220790|1220791|1220792|1220793|1220794|1220795|1220796|1220797|1220798|1220799|1220800|1220801|1221773|1221775|1221777|1221779|1221783|1221788|1221790|1221793|1221795|1221797|1221798|1221800|1221801|1221812|1221816|122181      2\n",
      "Name: aids, Length: 2391, dtype: int64\n",
      "\n",
      "\n",
      "Column: PUBCHEM_EXT_DATASOURCE_SMILES\n",
      "Number of unique values: 4301\n",
      "Unique values:\n",
      "CN(CC(=O)O)C(=S)C1=CC=CC2=C1C=CC(=C2C(F)(F)F)OC                    380\n",
      "C1COC2=C([C@]13C(=O)NC(=O)N3)C=C(C=C2)F                            338\n",
      "C/C(=C\\C1=CC=CC=C1)/C=C\\2/C(=O)N(C(=S)S2)CC(=O)O                   262\n",
      "C1=CC=C2C(=C1)C(=NN(C2=O)CC3=NC4=C(S3)C=CC(=C4)C(F)(F)F)CC(=O)O    128\n",
      "CC1=C(C2=C(CCC(O2)(C)C(=O)O)C(=C1O)C)C                             122\n",
      "                                                                  ... \n",
      "C1=CC=C(C=C1)N2C(=O)NC3=CC=CC=C3C24C(=O)NC(=O)N4                     2\n",
      "CN1C(=O)NC2=CC=CC=C2C13C(=O)N=C(S3)N                                 2\n",
      "CN1C(=O)NC2=CC=CC=C2[C@@]13C(=O)NC(=O)N3                             2\n",
      "CN1C(=O)NC2=CC=CC=C2C13C(=O)NC(=N3)N                                 2\n",
      "C1=CC=C(C(=C1)CC(=O)[O-])NC2=C(C=CC=C2Cl)Cl.[Na+]                    2\n",
      "Name: PUBCHEM_EXT_DATASOURCE_SMILES, Length: 4301, dtype: int64\n",
      "\n",
      "\n",
      "Column: PUBCHEM_ACTIVITY_OUTCOME\n",
      "Number of unique values: 4\n",
      "Unique values:\n",
      "Unspecified     18018\n",
      "Active           5954\n",
      "Inactive         1178\n",
      "Inconclusive      624\n",
      "Name: PUBCHEM_ACTIVITY_OUTCOME, dtype: int64\n",
      "\n",
      "\n"
     ]
    }
   ],
   "source": [
    "categorical_columns = ['cmpdname', 'mf', 'inchi', 'isosmiles', 'canonicalsmiles',\n",
    "                       'inchikey', 'iupacname', 'aids', 'PUBCHEM_EXT_DATASOURCE_SMILES',\n",
    "                       'PUBCHEM_ACTIVITY_OUTCOME']\n",
    "\n",
    "# Display unique values and their counts for each categorical column\n",
    "for column in categorical_columns:\n",
    "    print(\"Column:\", column)\n",
    "    print(\"Number of unique values:\", merged_df[column].nunique())\n",
    "    print(\"Unique values:\")\n",
    "    print(merged_df[column].value_counts())\n",
    "    print(\"\\n\")"
   ]
  },
  {
   "cell_type": "code",
   "execution_count": 21,
   "metadata": {
    "colab": {
     "base_uri": "https://localhost:8080/"
    },
    "executionInfo": {
     "elapsed": 19690,
     "status": "ok",
     "timestamp": 1710100074907,
     "user": {
      "displayName": "Palesa Tjale",
      "userId": "03417757512324219792"
     },
     "user_tz": -120
    },
    "id": "p7_uLrL5qOA0",
    "outputId": "3351ea75-7ff8-4477-bd10-e638c1dc36b2"
   },
   "outputs": [
    {
     "name": "stderr",
     "output_type": "stream",
     "text": [
      "/usr/local/lib/python3.10/dist-packages/sklearn/preprocessing/_encoders.py:868: FutureWarning: `sparse` was renamed to `sparse_output` in version 1.2 and will be removed in 1.4. `sparse_output` is ignored unless you leave `sparse` to its default value.\n",
      "  warnings.warn(\n"
     ]
    },
    {
     "name": "stdout",
     "output_type": "stream",
     "text": [
      "             cid      mw  polararea  complexity     xlogp  heavycnt  \\\n",
      "0       10412732  477.40      125.0       901.0  2.700000        33   \n",
      "1       10412732  477.40      125.0       901.0  2.700000        33   \n",
      "2       10412732  477.40      125.0       901.0  2.700000        33   \n",
      "3       10412732  477.40      125.0       901.0  2.700000        33   \n",
      "4       10412732  477.40      125.0       901.0  2.700000        33   \n",
      "...          ...     ...        ...         ...       ...       ...   \n",
      "25769  156016680  457.00       97.9       629.0  3.600000        32   \n",
      "25770      61253  282.33       87.0       269.0  3.700000        20   \n",
      "25771      61253  282.33       87.0       269.0  3.700000        20   \n",
      "25772    5018304  318.10       52.2       310.0  2.498303        20   \n",
      "25773    5018304  318.10       52.2       310.0  2.498303        20   \n",
      "\n",
      "       hbonddonor  hbondacc  rotbonds  \\\n",
      "0               1        10         2   \n",
      "1               1        10         2   \n",
      "2               1        10         2   \n",
      "3               1        10         2   \n",
      "4               1        10         2   \n",
      "...           ...       ...       ...   \n",
      "25769           5         5         6   \n",
      "25770           3         5         9   \n",
      "25771           3         5         9   \n",
      "25772           1         3         4   \n",
      "25773           1         3         4   \n",
      "\n",
      "                                         canonicalsmiles  ...  \\\n",
      "0      C1C(=O)NC(=O)C12C3=C(C=CC(=C3)F)C(=O)N(C2=O)CC...  ...   \n",
      "1      C1C(=O)NC(=O)C12C3=C(C=CC(=C3)F)C(=O)N(C2=O)CC...  ...   \n",
      "2      C1C(=O)NC(=O)C12C3=C(C=CC(=C3)F)C(=O)N(C2=O)CC...  ...   \n",
      "3      C1C(=O)NC(=O)C12C3=C(C=CC(=C3)F)C(=O)N(C2=O)CC...  ...   \n",
      "4      C1C(=O)NC(=O)C12C3=C(C=CC(=C3)F)C(=O)N(C2=O)CC...  ...   \n",
      "...                                                  ...  ...   \n",
      "25769  C1CC1C2=CC=C(C=C2)CC3=CN(C4=C3C(=CC=C4)Cl)C5CC...  ...   \n",
      "25770                 CCCCCCCCOC(=O)C1=CC(=C(C(=C1)O)O)O  ...   \n",
      "25771                 CCCCCCCCOC(=O)C1=CC(=C(C(=C1)O)O)O  ...   \n",
      "25772  C1=CC=C(C(=C1)CC(=O)[O-])NC2=C(C=CC=C2Cl)Cl.[Na+]  ...   \n",
      "25773  C1=CC=C(C(=C1)CC(=O)[O-])NC2=C(C=CC=C2Cl)Cl.[Na+]  ...   \n",
      "\n",
      "      PUBCHEM_EXT_DATASOURCE_SMILES_C1=CC(=CC=C1C2=COC3=C(C2=O)C=CC(=C3)O)O  \\\n",
      "0                                                    0.0                      \n",
      "1                                                    0.0                      \n",
      "2                                                    0.0                      \n",
      "3                                                    0.0                      \n",
      "4                                                    0.0                      \n",
      "...                                                  ...                      \n",
      "25769                                                0.0                      \n",
      "25770                                                0.0                      \n",
      "25771                                                0.0                      \n",
      "25772                                                0.0                      \n",
      "25773                                                0.0                      \n",
      "\n",
      "       PUBCHEM_EXT_DATASOURCE_SMILES_C1=CC(=CC=C1/C=C/2\\C3=C(C=C(C=C3)Cl)NC2=O)C4=NN=C(O4)C5=CC(=CC(=C5)O)O  \\\n",
      "0                                                    0.0                                                      \n",
      "1                                                    0.0                                                      \n",
      "2                                                    0.0                                                      \n",
      "3                                                    0.0                                                      \n",
      "4                                                    0.0                                                      \n",
      "...                                                  ...                                                      \n",
      "25769                                                0.0                                                      \n",
      "25770                                                0.0                                                      \n",
      "25771                                                0.0                                                      \n",
      "25772                                                0.0                                                      \n",
      "25773                                                0.0                                                      \n",
      "\n",
      "       PUBCHEM_EXT_DATASOURCE_SMILES_CN1C=C(C2=CC=CC=C21)C3=NN=C(O3)C4=CC=C(C=C4)C(C5=CNC6=C5C=C(C=C6)Cl)C7=CNC8=C7C=C(C=C8)Cl  \\\n",
      "0                                                    0.0                                                                         \n",
      "1                                                    0.0                                                                         \n",
      "2                                                    0.0                                                                         \n",
      "3                                                    0.0                                                                         \n",
      "4                                                    0.0                                                                         \n",
      "...                                                  ...                                                                         \n",
      "25769                                                0.0                                                                         \n",
      "25770                                                0.0                                                                         \n",
      "25771                                                0.0                                                                         \n",
      "25772                                                0.0                                                                         \n",
      "25773                                                0.0                                                                         \n",
      "\n",
      "       PUBCHEM_EXT_DATASOURCE_SMILES_C1=CC=C2C=C(C=CC2=C1)C(=O)CC(C3=CC=C(C=C3)Cl)C(C(=O)NC4=CC=CC=N4)C(=O)NC5=CC=CC=N5  \\\n",
      "0                                                    0.0                                                                  \n",
      "1                                                    0.0                                                                  \n",
      "2                                                    0.0                                                                  \n",
      "3                                                    0.0                                                                  \n",
      "4                                                    0.0                                                                  \n",
      "...                                                  ...                                                                  \n",
      "25769                                                0.0                                                                  \n",
      "25770                                                0.0                                                                  \n",
      "25771                                                0.0                                                                  \n",
      "25772                                                0.0                                                                  \n",
      "25773                                                0.0                                                                  \n",
      "\n",
      "       PUBCHEM_EXT_DATASOURCE_SMILES_CC(=O)NC1=CC=C(C=C1)N2C(NC(=C2C3=CC=CC=C3)C4=CC=CC=C4)C5=C(NC6=C5C=C(C=C6)F)C7=CC=CC=C7  \\\n",
      "0                                                    0.0                                                                       \n",
      "1                                                    0.0                                                                       \n",
      "2                                                    0.0                                                                       \n",
      "3                                                    0.0                                                                       \n",
      "4                                                    0.0                                                                       \n",
      "...                                                  ...                                                                       \n",
      "25769                                                0.0                                                                       \n",
      "25770                                                0.0                                                                       \n",
      "25771                                                0.0                                                                       \n",
      "25772                                                0.0                                                                       \n",
      "25773                                                0.0                                                                       \n",
      "\n",
      "       PUBCHEM_EXT_DATASOURCE_SMILES_C1=CC=C2C(=C1)C=C(C(=O)O2)C(=O)N/N=C/C3=C(C(=CC=C3)O)O  \\\n",
      "0                                                    0.0                                      \n",
      "1                                                    0.0                                      \n",
      "2                                                    0.0                                      \n",
      "3                                                    0.0                                      \n",
      "4                                                    0.0                                      \n",
      "...                                                  ...                                      \n",
      "25769                                                0.0                                      \n",
      "25770                                                0.0                                      \n",
      "25771                                                0.0                                      \n",
      "25772                                                0.0                                      \n",
      "25773                                                0.0                                      \n",
      "\n",
      "       PUBCHEM_EXT_DATASOURCE_SMILES_C1CC1C2=CC=C(C=C2)CC3=CN(C4=C3C(=CC=C4)Cl)[C@@H]5C[C@@H]([C@H]([C@@H]([C@H]5O)O)O)CNO  \\\n",
      "0                                                    0.0                                                                     \n",
      "1                                                    0.0                                                                     \n",
      "2                                                    0.0                                                                     \n",
      "3                                                    0.0                                                                     \n",
      "4                                                    0.0                                                                     \n",
      "...                                                  ...                                                                     \n",
      "25769                                                0.0                                                                     \n",
      "25770                                                0.0                                                                     \n",
      "25771                                                0.0                                                                     \n",
      "25772                                                0.0                                                                     \n",
      "25773                                                0.0                                                                     \n",
      "\n",
      "       PUBCHEM_EXT_DATASOURCE_SMILES_CCCCCCCCOC(=O)C1=CC(=C(C(=C1)O)O)O  \\\n",
      "0                                                    0.0                  \n",
      "1                                                    0.0                  \n",
      "2                                                    0.0                  \n",
      "3                                                    0.0                  \n",
      "4                                                    0.0                  \n",
      "...                                                  ...                  \n",
      "25769                                                0.0                  \n",
      "25770                                                0.0                  \n",
      "25771                                                0.0                  \n",
      "25772                                                0.0                  \n",
      "25773                                                0.0                  \n",
      "\n",
      "       PUBCHEM_EXT_DATASOURCE_SMILES_C1=CC=C(C(=C1)CC(=O)[O-])NC2=C(C=CC=C2Cl)Cl.[Na+]  \\\n",
      "0                                                    0.0                                 \n",
      "1                                                    0.0                                 \n",
      "2                                                    0.0                                 \n",
      "3                                                    0.0                                 \n",
      "4                                                    0.0                                 \n",
      "...                                                  ...                                 \n",
      "25769                                                0.0                                 \n",
      "25770                                                0.0                                 \n",
      "25771                                                0.0                                 \n",
      "25772                                                0.0                                 \n",
      "25773                                                0.0                                 \n",
      "\n",
      "         mf  \n",
      "0      2179  \n",
      "1      2179  \n",
      "2      2179  \n",
      "3      2179  \n",
      "4      2179  \n",
      "...     ...  \n",
      "25769  2595  \n",
      "25770   972  \n",
      "25771   972  \n",
      "25772   614  \n",
      "25773   614  \n",
      "\n",
      "[25774 rows x 23925 columns]\n"
     ]
    }
   ],
   "source": [
    "from sklearn.preprocessing import OneHotEncoder, LabelEncoder\n",
    "\n",
    "# Columns for one-hot encoding (large number of unique values)\n",
    "one_hot_columns = ['cmpdname', 'inchi', 'isosmiles', 'iupacname', 'aids', 'PUBCHEM_EXT_DATASOURCE_SMILES']\n",
    "\n",
    "# Columns for label encoding (smaller number of unique values)\n",
    "label_columns = ['mf']\n",
    "\n",
    "# Initialize encoders\n",
    "one_hot_encoder = OneHotEncoder(sparse=False, handle_unknown='ignore')\n",
    "label_encoder = LabelEncoder()\n",
    "\n",
    "# One-hot encoding\n",
    "one_hot_encoded = one_hot_encoder.fit_transform(merged_df[one_hot_columns])\n",
    "one_hot_encoded_df = pd.DataFrame(one_hot_encoded, columns=[f\"{col}_{val}\" for col in one_hot_columns for val in merged_df[col].unique()])\n",
    "\n",
    "# Label encoding\n",
    "label_encoded_df = merged_df[label_columns].apply(label_encoder.fit_transform)\n",
    "\n",
    "# Concatenate the encoded columns with the original DataFrame\n",
    "merged_df_encoded = pd.concat([merged_df.drop(columns=one_hot_columns + label_columns), one_hot_encoded_df, label_encoded_df], axis=1)\n",
    "\n",
    "# Display the updated DataFrame\n",
    "print(merged_df_encoded)"
   ]
  },
  {
   "cell_type": "markdown",
   "metadata": {
    "id": "ZGApZJtB6Tql"
   },
   "source": [
    "molecular descriptors"
   ]
  },
  {
   "cell_type": "code",
   "execution_count": 22,
   "metadata": {
    "colab": {
     "base_uri": "https://localhost:8080/"
    },
    "executionInfo": {
     "elapsed": 8115,
     "status": "ok",
     "timestamp": 1710100083011,
     "user": {
      "displayName": "Palesa Tjale",
      "userId": "03417757512324219792"
     },
     "user_tz": -120
    },
    "id": "jx-Hakhx5Vc1",
    "outputId": "a6e65eca-8e21-4f64-a0ac-ee49f94f1cff"
   },
   "outputs": [
    {
     "name": "stdout",
     "output_type": "stream",
     "text": [
      "Collecting padelpy\n",
      "  Downloading padelpy-0.1.14-py2.py3-none-any.whl (20.9 MB)\n",
      "\u001b[2K     \u001b[90m━━━━━━━━━━━━━━━━━━━━━━━━━━━━━━━━━━━━━━━━\u001b[0m \u001b[32m20.9/20.9 MB\u001b[0m \u001b[31m44.8 MB/s\u001b[0m eta \u001b[36m0:00:00\u001b[0m\n",
      "\u001b[?25hInstalling collected packages: padelpy\n",
      "Successfully installed padelpy-0.1.14\n"
     ]
    }
   ],
   "source": [
    "! pip install padelpy"
   ]
  },
  {
   "cell_type": "code",
   "execution_count": 26,
   "metadata": {
    "colab": {
     "base_uri": "https://localhost:8080/"
    },
    "executionInfo": {
     "elapsed": 555,
     "status": "ok",
     "timestamp": 1710100196153,
     "user": {
      "displayName": "Palesa Tjale",
      "userId": "03417757512324219792"
     },
     "user_tz": -120
    },
    "id": "YHJacHfut60r",
    "outputId": "d259e05b-f019-486c-fb66-ade9a40ea70a"
   },
   "outputs": [
    {
     "name": "stdout",
     "output_type": "stream",
     "text": [
      "unzip:  cannot find or open /content/drive/MyDrive/aroma/fingerprints_xml.zip, /content/drive/MyDrive/aroma/fingerprints_xml.zip.zip or /content/drive/MyDrive/aroma/fingerprints_xml.zip.ZIP.\n"
     ]
    }
   ],
   "source": [
    "! unzip /content/drive/MyDrive/aroma/fingerprints_xml.zip"
   ]
  },
  {
   "cell_type": "code",
   "execution_count": 23,
   "metadata": {
    "colab": {
     "base_uri": "https://localhost:8080/"
    },
    "executionInfo": {
     "elapsed": 14,
     "status": "ok",
     "timestamp": 1710100083011,
     "user": {
      "displayName": "Palesa Tjale",
      "userId": "03417757512324219792"
     },
     "user_tz": -120
    },
    "id": "spjAP7HgyvMH",
    "outputId": "f8659edd-e87f-4118-cf01-1079b5971a96"
   },
   "outputs": [
    {
     "name": "stdout",
     "output_type": "stream",
     "text": [
      "Index(['cid', 'cmpdname', 'mw', 'mf', 'polararea', 'complexity', 'xlogp',\n",
      "       'heavycnt', 'hbonddonor', 'hbondacc', 'rotbonds', 'inchi', 'isosmiles',\n",
      "       'canonicalsmiles', 'inchikey', 'iupacname', 'exactmass',\n",
      "       'monoisotopicmass', 'charge', 'covalentunitcnt', 'isotopeatomcnt',\n",
      "       'totalatomstereocnt', 'definedatomstereocnt', 'undefinedatomstereocnt',\n",
      "       'totalbondstereocnt', 'definedbondstereocnt', 'undefinedbondstereocnt',\n",
      "       'pclidcnt', 'gpidcnt', 'gpfamilycnt', 'annothitcnt', 'aids', 'cidcdate',\n",
      "       'PUBCHEM_EXT_DATASOURCE_SMILES', 'PUBCHEM_ACTIVITY_OUTCOME'],\n",
      "      dtype='object')\n"
     ]
    }
   ],
   "source": [
    "print(merged_df.columns)"
   ]
  },
  {
   "cell_type": "markdown",
   "metadata": {
    "id": "XN642on_3qQD"
   },
   "source": [
    "Molecular Descriptors"
   ]
  },
  {
   "cell_type": "markdown",
   "metadata": {
    "id": "IJj66ePU4xev"
   },
   "source": [
    "# MODEL TRAINING\n"
   ]
  },
  {
   "cell_type": "code",
   "execution_count": 25,
   "metadata": {
    "colab": {
     "base_uri": "https://localhost:8080/",
     "height": 365
    },
    "executionInfo": {
     "elapsed": 15,
     "status": "error",
     "timestamp": 1710100089774,
     "user": {
      "displayName": "Palesa Tjale",
      "userId": "03417757512324219792"
     },
     "user_tz": -120
    },
    "id": "8M_sgxTf5_bE",
    "outputId": "e22aadfd-89db-4179-ac8c-59e626ea8e14"
   },
   "outputs": [
    {
     "ename": "KeyError",
     "evalue": "\"['MolecularWeight', 'LogP', 'ecfp4_fingerprint'] not in index\"",
     "output_type": "error",
     "traceback": [
      "\u001b[0;31m---------------------------------------------------------------------------\u001b[0m",
      "\u001b[0;31mKeyError\u001b[0m                                  Traceback (most recent call last)",
      "\u001b[0;32m<ipython-input-25-cd7bf02e7d03>\u001b[0m in \u001b[0;36m<cell line: 4>\u001b[0;34m()\u001b[0m\n\u001b[1;32m      2\u001b[0m \u001b[0;34m\u001b[0m\u001b[0m\n\u001b[1;32m      3\u001b[0m \u001b[0;31m# Extract relevant columns\u001b[0m\u001b[0;34m\u001b[0m\u001b[0;34m\u001b[0m\u001b[0m\n\u001b[0;32m----> 4\u001b[0;31m \u001b[0mrelevant_data\u001b[0m \u001b[0;34m=\u001b[0m \u001b[0mmerged_df\u001b[0m\u001b[0;34m[\u001b[0m\u001b[0mrelevant_columns\u001b[0m\u001b[0;34m]\u001b[0m\u001b[0;34m\u001b[0m\u001b[0;34m\u001b[0m\u001b[0m\n\u001b[0m\u001b[1;32m      5\u001b[0m \u001b[0;34m\u001b[0m\u001b[0m\n\u001b[1;32m      6\u001b[0m \u001b[0;31m# Display the extracted data\u001b[0m\u001b[0;34m\u001b[0m\u001b[0;34m\u001b[0m\u001b[0m\n",
      "\u001b[0;32m/usr/local/lib/python3.10/dist-packages/pandas/core/frame.py\u001b[0m in \u001b[0;36m__getitem__\u001b[0;34m(self, key)\u001b[0m\n\u001b[1;32m   3811\u001b[0m             \u001b[0;32mif\u001b[0m \u001b[0mis_iterator\u001b[0m\u001b[0;34m(\u001b[0m\u001b[0mkey\u001b[0m\u001b[0;34m)\u001b[0m\u001b[0;34m:\u001b[0m\u001b[0;34m\u001b[0m\u001b[0;34m\u001b[0m\u001b[0m\n\u001b[1;32m   3812\u001b[0m                 \u001b[0mkey\u001b[0m \u001b[0;34m=\u001b[0m \u001b[0mlist\u001b[0m\u001b[0;34m(\u001b[0m\u001b[0mkey\u001b[0m\u001b[0;34m)\u001b[0m\u001b[0;34m\u001b[0m\u001b[0;34m\u001b[0m\u001b[0m\n\u001b[0;32m-> 3813\u001b[0;31m             \u001b[0mindexer\u001b[0m \u001b[0;34m=\u001b[0m \u001b[0mself\u001b[0m\u001b[0;34m.\u001b[0m\u001b[0mcolumns\u001b[0m\u001b[0;34m.\u001b[0m\u001b[0m_get_indexer_strict\u001b[0m\u001b[0;34m(\u001b[0m\u001b[0mkey\u001b[0m\u001b[0;34m,\u001b[0m \u001b[0;34m\"columns\"\u001b[0m\u001b[0;34m)\u001b[0m\u001b[0;34m[\u001b[0m\u001b[0;36m1\u001b[0m\u001b[0;34m]\u001b[0m\u001b[0;34m\u001b[0m\u001b[0;34m\u001b[0m\u001b[0m\n\u001b[0m\u001b[1;32m   3814\u001b[0m \u001b[0;34m\u001b[0m\u001b[0m\n\u001b[1;32m   3815\u001b[0m         \u001b[0;31m# take() does not accept boolean indexers\u001b[0m\u001b[0;34m\u001b[0m\u001b[0;34m\u001b[0m\u001b[0m\n",
      "\u001b[0;32m/usr/local/lib/python3.10/dist-packages/pandas/core/indexes/base.py\u001b[0m in \u001b[0;36m_get_indexer_strict\u001b[0;34m(self, key, axis_name)\u001b[0m\n\u001b[1;32m   6068\u001b[0m             \u001b[0mkeyarr\u001b[0m\u001b[0;34m,\u001b[0m \u001b[0mindexer\u001b[0m\u001b[0;34m,\u001b[0m \u001b[0mnew_indexer\u001b[0m \u001b[0;34m=\u001b[0m \u001b[0mself\u001b[0m\u001b[0;34m.\u001b[0m\u001b[0m_reindex_non_unique\u001b[0m\u001b[0;34m(\u001b[0m\u001b[0mkeyarr\u001b[0m\u001b[0;34m)\u001b[0m\u001b[0;34m\u001b[0m\u001b[0;34m\u001b[0m\u001b[0m\n\u001b[1;32m   6069\u001b[0m \u001b[0;34m\u001b[0m\u001b[0m\n\u001b[0;32m-> 6070\u001b[0;31m         \u001b[0mself\u001b[0m\u001b[0;34m.\u001b[0m\u001b[0m_raise_if_missing\u001b[0m\u001b[0;34m(\u001b[0m\u001b[0mkeyarr\u001b[0m\u001b[0;34m,\u001b[0m \u001b[0mindexer\u001b[0m\u001b[0;34m,\u001b[0m \u001b[0maxis_name\u001b[0m\u001b[0;34m)\u001b[0m\u001b[0;34m\u001b[0m\u001b[0;34m\u001b[0m\u001b[0m\n\u001b[0m\u001b[1;32m   6071\u001b[0m \u001b[0;34m\u001b[0m\u001b[0m\n\u001b[1;32m   6072\u001b[0m         \u001b[0mkeyarr\u001b[0m \u001b[0;34m=\u001b[0m \u001b[0mself\u001b[0m\u001b[0;34m.\u001b[0m\u001b[0mtake\u001b[0m\u001b[0;34m(\u001b[0m\u001b[0mindexer\u001b[0m\u001b[0;34m)\u001b[0m\u001b[0;34m\u001b[0m\u001b[0;34m\u001b[0m\u001b[0m\n",
      "\u001b[0;32m/usr/local/lib/python3.10/dist-packages/pandas/core/indexes/base.py\u001b[0m in \u001b[0;36m_raise_if_missing\u001b[0;34m(self, key, indexer, axis_name)\u001b[0m\n\u001b[1;32m   6131\u001b[0m \u001b[0;34m\u001b[0m\u001b[0m\n\u001b[1;32m   6132\u001b[0m             \u001b[0mnot_found\u001b[0m \u001b[0;34m=\u001b[0m \u001b[0mlist\u001b[0m\u001b[0;34m(\u001b[0m\u001b[0mensure_index\u001b[0m\u001b[0;34m(\u001b[0m\u001b[0mkey\u001b[0m\u001b[0;34m)\u001b[0m\u001b[0;34m[\u001b[0m\u001b[0mmissing_mask\u001b[0m\u001b[0;34m.\u001b[0m\u001b[0mnonzero\u001b[0m\u001b[0;34m(\u001b[0m\u001b[0;34m)\u001b[0m\u001b[0;34m[\u001b[0m\u001b[0;36m0\u001b[0m\u001b[0;34m]\u001b[0m\u001b[0;34m]\u001b[0m\u001b[0;34m.\u001b[0m\u001b[0munique\u001b[0m\u001b[0;34m(\u001b[0m\u001b[0;34m)\u001b[0m\u001b[0;34m)\u001b[0m\u001b[0;34m\u001b[0m\u001b[0;34m\u001b[0m\u001b[0m\n\u001b[0;32m-> 6133\u001b[0;31m             \u001b[0;32mraise\u001b[0m \u001b[0mKeyError\u001b[0m\u001b[0;34m(\u001b[0m\u001b[0;34mf\"{not_found} not in index\"\u001b[0m\u001b[0;34m)\u001b[0m\u001b[0;34m\u001b[0m\u001b[0;34m\u001b[0m\u001b[0m\n\u001b[0m\u001b[1;32m   6134\u001b[0m \u001b[0;34m\u001b[0m\u001b[0m\n\u001b[1;32m   6135\u001b[0m     \u001b[0;34m@\u001b[0m\u001b[0moverload\u001b[0m\u001b[0;34m\u001b[0m\u001b[0;34m\u001b[0m\u001b[0m\n",
      "\u001b[0;31mKeyError\u001b[0m: \"['MolecularWeight', 'LogP', 'ecfp4_fingerprint'] not in index\""
     ]
    }
   ],
   "source": [
    "relevant_columns = ['cid', 'MolecularWeight', 'LogP', 'ecfp4_fingerprint', 'PUBCHEM_ACTIVITY_OUTCOME']\n",
    "\n",
    "# Extract relevant columns\n",
    "relevant_data = merged_df[relevant_columns]\n",
    "\n",
    "# Display the extracted data\n",
    "print(relevant_data.head())"
   ]
  },
  {
   "cell_type": "code",
   "execution_count": null,
   "metadata": {
    "executionInfo": {
     "elapsed": 13,
     "status": "aborted",
     "timestamp": 1710100089775,
     "user": {
      "displayName": "Palesa Tjale",
      "userId": "03417757512324219792"
     },
     "user_tz": -120
    },
    "id": "Rvsktji5MEgU"
   },
   "outputs": [],
   "source": [
    "# Define features (X) and target variable (y)\n",
    "X = merged_df[['ecfp4_fingerprint', 'MolecularWeight', 'LogP', 'mw', 'polararea', 'complexity', 'xlogp', 'heavycnt', 'hbonddonor', 'hbondacc',\n",
    "    'rotbonds', 'exactmass', 'monoisotopicmass', 'charge', 'covalentunitcnt',\n",
    "    'isotopeatomcnt', 'totalatomstereocnt', 'definedatomstereocnt', 'undefinedatomstereocnt',\n",
    "    'totalbondstereocnt', 'definedbondstereocnt', 'undefinedbondstereocnt']]  # Include all relevant features\n",
    "y = merged_df['PUBCHEM_ACTIVITY_OUTCOME']\n",
    "\n",
    "# Split the data into training, validation, and test sets\n",
    "from sklearn.model_selection import train_test_split\n",
    "\n",
    "X_train, X_temp, y_train, y_temp = train_test_split(X, y, test_size=0.3, random_state=42)\n",
    "X_val, X_test, y_val, y_test = train_test_split(X_temp, y_temp, test_size=0.5, random_state=42)\n",
    "\n",
    "# Check the shapes of the datasets\n",
    "print(\"Training set shape:\", X_train.shape, y_train.shape)\n",
    "print(\"Validation set shape:\", X_val.shape, y_val.shape)\n",
    "print(\"Test set shape:\", X_test.shape, y_test.shape)"
   ]
  },
  {
   "cell_type": "code",
   "execution_count": null,
   "metadata": {
    "executionInfo": {
     "elapsed": 13,
     "status": "aborted",
     "timestamp": 1710100089775,
     "user": {
      "displayName": "Palesa Tjale",
      "userId": "03417757512324219792"
     },
     "user_tz": -120
    },
    "id": "CwLPC6HZM33-"
   },
   "outputs": [],
   "source": [
    "from sklearn.svm import SVC\n",
    "from sklearn.metrics import classification_report\n",
    "\n",
    "from rdkit import DataStructs\n",
    "\n",
    "# Convert ExplicitBitVect objects to numpy arrays\n",
    "X_train_ecfp4 = np.array([DataStructs.ConvertToNumpyArray(fp) for fp in X_train['ecfp4_fingerprint']])\n",
    "X_test_ecfp4 = np.array([DataStructs.ConvertToNumpyArray(fp) for fp in X_test['ecfp4_fingerprint']])\n",
    "\n",
    "# Train the classifier on the training set\n",
    "svm_classifier.fit(X_train_ecfp4, y_train)\n",
    "\n",
    "# Predictions on the test set\n",
    "y_pred_test = svm_classifier.predict(X_test_ecfp4)\n",
    "\n",
    "\n",
    "\n",
    "\n",
    "\n",
    "# Calculate evaluation metrics\n",
    "accuracy = accuracy_score(y_test, y_pred_test)\n",
    "precision = precision_score(y_test, y_pred_test, average='weighted')\n",
    "recall = recall_score(y_test, y_pred_test, average='weighted')\n",
    "f1 = f1_score(y_test, y_pred_test, average='weighted')\n",
    "roc_auc = roc_auc_score(y_test, y_pred_test)\n",
    "\n",
    "# Print the evaluation metrics\n",
    "print(\"Accuracy:\", accuracy)\n",
    "print(\"Precision:\", precision)\n",
    "print(\"Recall:\", recall)\n",
    "print(\"F1-score:\", f1)\n",
    "print(\"ROC AUC score:\", roc_auc)"
   ]
  }
 ],
 "metadata": {
  "colab": {
   "authorship_tag": "ABX9TyPapC9SaBOPak6RsSRqrrMZ",
   "provenance": []
  },
  "kernelspec": {
   "display_name": "Python 3 (ipykernel)",
   "language": "python",
   "name": "python3"
  },
  "language_info": {
   "codemirror_mode": {
    "name": "ipython",
    "version": 3
   },
   "file_extension": ".py",
   "mimetype": "text/x-python",
   "name": "python",
   "nbconvert_exporter": "python",
   "pygments_lexer": "ipython3",
   "version": "3.11.5"
  }
 },
 "nbformat": 4,
 "nbformat_minor": 1
}
